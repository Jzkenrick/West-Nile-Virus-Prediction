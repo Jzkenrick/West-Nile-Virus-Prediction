{
 "cells": [
  {
   "cell_type": "markdown",
   "metadata": {
    "toc": true
   },
   "source": [
    "<h1>Table of Contents<span class=\"tocSkip\"></span></h1>\n",
    "<div class=\"toc\"><ul class=\"toc-item\"><li><span><a href=\"#Cleaning-Weather\" data-toc-modified-id=\"Cleaning-Weather-1\"><span class=\"toc-item-num\">1&nbsp;&nbsp;</span>Cleaning Weather</a></span><ul class=\"toc-item\"><li><span><a href=\"#Missing-'Tavg'-values\" data-toc-modified-id=\"Missing-'Tavg'-values-1.1\"><span class=\"toc-item-num\">1.1&nbsp;&nbsp;</span>Missing 'Tavg' values</a></span></li><li><span><a href=\"#Missing-WetBulb-values-and-seeing-correlation-of-Heat/Cool-vs-Tavg\" data-toc-modified-id=\"Missing-WetBulb-values-and-seeing-correlation-of-Heat/Cool-vs-Tavg-1.2\"><span class=\"toc-item-num\">1.2&nbsp;&nbsp;</span>Missing WetBulb values and seeing correlation of Heat/Cool vs Tavg</a></span></li><li><span><a href=\"#Amount-of-sunlight-hours---just-for-fun?\" data-toc-modified-id=\"Amount-of-sunlight-hours---just-for-fun?-1.3\"><span class=\"toc-item-num\">1.3&nbsp;&nbsp;</span>Amount of sunlight hours - just for fun?</a></span></li><li><span><a href=\"#Looking-at-some-other-columns\" data-toc-modified-id=\"Looking-at-some-other-columns-1.4\"><span class=\"toc-item-num\">1.4&nbsp;&nbsp;</span>Looking at some other columns</a></span></li></ul></li><li><span><a href=\"#The-goods-are-here\" data-toc-modified-id=\"The-goods-are-here-2\"><span class=\"toc-item-num\">2&nbsp;&nbsp;</span>The goods are here</a></span></li></ul></div>"
   ]
  },
  {
   "cell_type": "code",
   "execution_count": 1,
   "metadata": {},
   "outputs": [],
   "source": [
    "import pandas as pd\n",
    "import numpy as np\n",
    "import seaborn as sns\n",
    "\n",
    "from datetime import datetime\n",
    "\n",
    "import shapely\n",
    "from shapely import geometry\n",
    "from shapely import ops\n",
    "\n",
    "from sklearn.impute import SimpleImputer\n",
    "\n",
    "pd.set_option('display.max_columns', None)\n",
    "\n",
    "\n",
    "import matplotlib.pyplot as plt\n",
    "%matplotlib inline"
   ]
  },
  {
   "cell_type": "code",
   "execution_count": 2,
   "metadata": {},
   "outputs": [],
   "source": [
    "train_raw = pd.read_csv('./datasets/train.csv')\n",
    "test_raw = pd.read_csv('./datasets/test.csv')\n",
    "spray_raw = pd.read_csv('./datasets/spray.csv')\n",
    "weather_raw = pd.read_csv('./datasets/weather.csv')"
   ]
  },
  {
   "cell_type": "code",
   "execution_count": 3,
   "metadata": {
    "scrolled": true
   },
   "outputs": [
    {
     "data": {
      "text/plain": [
       "RangeIndex(start=0, stop=2944, step=1)"
      ]
     },
     "execution_count": 3,
     "metadata": {},
     "output_type": "execute_result"
    }
   ],
   "source": [
    "weather_raw.index"
   ]
  },
  {
   "cell_type": "markdown",
   "metadata": {},
   "source": [
    "# Cleaning Weather"
   ]
  },
  {
   "cell_type": "code",
   "execution_count": 4,
   "metadata": {
    "scrolled": true
   },
   "outputs": [
    {
     "data": {
      "text/html": [
       "<div>\n",
       "<style scoped>\n",
       "    .dataframe tbody tr th:only-of-type {\n",
       "        vertical-align: middle;\n",
       "    }\n",
       "\n",
       "    .dataframe tbody tr th {\n",
       "        vertical-align: top;\n",
       "    }\n",
       "\n",
       "    .dataframe thead th {\n",
       "        text-align: right;\n",
       "    }\n",
       "</style>\n",
       "<table border=\"1\" class=\"dataframe\">\n",
       "  <thead>\n",
       "    <tr style=\"text-align: right;\">\n",
       "      <th></th>\n",
       "      <th>Station</th>\n",
       "      <th>Date</th>\n",
       "      <th>Tmax</th>\n",
       "      <th>Tmin</th>\n",
       "      <th>Tavg</th>\n",
       "      <th>Depart</th>\n",
       "      <th>DewPoint</th>\n",
       "      <th>WetBulb</th>\n",
       "      <th>Heat</th>\n",
       "      <th>Cool</th>\n",
       "      <th>Sunrise</th>\n",
       "      <th>Sunset</th>\n",
       "      <th>CodeSum</th>\n",
       "      <th>Depth</th>\n",
       "      <th>Water1</th>\n",
       "      <th>SnowFall</th>\n",
       "      <th>PrecipTotal</th>\n",
       "      <th>StnPressure</th>\n",
       "      <th>SeaLevel</th>\n",
       "      <th>ResultSpeed</th>\n",
       "      <th>ResultDir</th>\n",
       "      <th>AvgSpeed</th>\n",
       "    </tr>\n",
       "  </thead>\n",
       "  <tbody>\n",
       "    <tr>\n",
       "      <th>0</th>\n",
       "      <td>1</td>\n",
       "      <td>2007-05-01</td>\n",
       "      <td>83</td>\n",
       "      <td>50</td>\n",
       "      <td>67</td>\n",
       "      <td>14</td>\n",
       "      <td>51</td>\n",
       "      <td>56</td>\n",
       "      <td>0</td>\n",
       "      <td>2</td>\n",
       "      <td>0448</td>\n",
       "      <td>1849</td>\n",
       "      <td></td>\n",
       "      <td>0</td>\n",
       "      <td>M</td>\n",
       "      <td>0.0</td>\n",
       "      <td>0.00</td>\n",
       "      <td>29.10</td>\n",
       "      <td>29.82</td>\n",
       "      <td>1.7</td>\n",
       "      <td>27</td>\n",
       "      <td>9.2</td>\n",
       "    </tr>\n",
       "    <tr>\n",
       "      <th>1</th>\n",
       "      <td>2</td>\n",
       "      <td>2007-05-01</td>\n",
       "      <td>84</td>\n",
       "      <td>52</td>\n",
       "      <td>68</td>\n",
       "      <td>M</td>\n",
       "      <td>51</td>\n",
       "      <td>57</td>\n",
       "      <td>0</td>\n",
       "      <td>3</td>\n",
       "      <td>-</td>\n",
       "      <td>-</td>\n",
       "      <td></td>\n",
       "      <td>M</td>\n",
       "      <td>M</td>\n",
       "      <td>M</td>\n",
       "      <td>0.00</td>\n",
       "      <td>29.18</td>\n",
       "      <td>29.82</td>\n",
       "      <td>2.7</td>\n",
       "      <td>25</td>\n",
       "      <td>9.6</td>\n",
       "    </tr>\n",
       "    <tr>\n",
       "      <th>2</th>\n",
       "      <td>1</td>\n",
       "      <td>2007-05-02</td>\n",
       "      <td>59</td>\n",
       "      <td>42</td>\n",
       "      <td>51</td>\n",
       "      <td>-3</td>\n",
       "      <td>42</td>\n",
       "      <td>47</td>\n",
       "      <td>14</td>\n",
       "      <td>0</td>\n",
       "      <td>0447</td>\n",
       "      <td>1850</td>\n",
       "      <td>BR</td>\n",
       "      <td>0</td>\n",
       "      <td>M</td>\n",
       "      <td>0.0</td>\n",
       "      <td>0.00</td>\n",
       "      <td>29.38</td>\n",
       "      <td>30.09</td>\n",
       "      <td>13.0</td>\n",
       "      <td>4</td>\n",
       "      <td>13.4</td>\n",
       "    </tr>\n",
       "    <tr>\n",
       "      <th>3</th>\n",
       "      <td>2</td>\n",
       "      <td>2007-05-02</td>\n",
       "      <td>60</td>\n",
       "      <td>43</td>\n",
       "      <td>52</td>\n",
       "      <td>M</td>\n",
       "      <td>42</td>\n",
       "      <td>47</td>\n",
       "      <td>13</td>\n",
       "      <td>0</td>\n",
       "      <td>-</td>\n",
       "      <td>-</td>\n",
       "      <td>BR HZ</td>\n",
       "      <td>M</td>\n",
       "      <td>M</td>\n",
       "      <td>M</td>\n",
       "      <td>0.00</td>\n",
       "      <td>29.44</td>\n",
       "      <td>30.08</td>\n",
       "      <td>13.3</td>\n",
       "      <td>2</td>\n",
       "      <td>13.4</td>\n",
       "    </tr>\n",
       "    <tr>\n",
       "      <th>4</th>\n",
       "      <td>1</td>\n",
       "      <td>2007-05-03</td>\n",
       "      <td>66</td>\n",
       "      <td>46</td>\n",
       "      <td>56</td>\n",
       "      <td>2</td>\n",
       "      <td>40</td>\n",
       "      <td>48</td>\n",
       "      <td>9</td>\n",
       "      <td>0</td>\n",
       "      <td>0446</td>\n",
       "      <td>1851</td>\n",
       "      <td></td>\n",
       "      <td>0</td>\n",
       "      <td>M</td>\n",
       "      <td>0.0</td>\n",
       "      <td>0.00</td>\n",
       "      <td>29.39</td>\n",
       "      <td>30.12</td>\n",
       "      <td>11.7</td>\n",
       "      <td>7</td>\n",
       "      <td>11.9</td>\n",
       "    </tr>\n",
       "    <tr>\n",
       "      <th>5</th>\n",
       "      <td>2</td>\n",
       "      <td>2007-05-03</td>\n",
       "      <td>67</td>\n",
       "      <td>48</td>\n",
       "      <td>58</td>\n",
       "      <td>M</td>\n",
       "      <td>40</td>\n",
       "      <td>50</td>\n",
       "      <td>7</td>\n",
       "      <td>0</td>\n",
       "      <td>-</td>\n",
       "      <td>-</td>\n",
       "      <td>HZ</td>\n",
       "      <td>M</td>\n",
       "      <td>M</td>\n",
       "      <td>M</td>\n",
       "      <td>0.00</td>\n",
       "      <td>29.46</td>\n",
       "      <td>30.12</td>\n",
       "      <td>12.9</td>\n",
       "      <td>6</td>\n",
       "      <td>13.2</td>\n",
       "    </tr>\n",
       "    <tr>\n",
       "      <th>6</th>\n",
       "      <td>1</td>\n",
       "      <td>2007-05-04</td>\n",
       "      <td>66</td>\n",
       "      <td>49</td>\n",
       "      <td>58</td>\n",
       "      <td>4</td>\n",
       "      <td>41</td>\n",
       "      <td>50</td>\n",
       "      <td>7</td>\n",
       "      <td>0</td>\n",
       "      <td>0444</td>\n",
       "      <td>1852</td>\n",
       "      <td>RA</td>\n",
       "      <td>0</td>\n",
       "      <td>M</td>\n",
       "      <td>0.0</td>\n",
       "      <td>T</td>\n",
       "      <td>29.31</td>\n",
       "      <td>30.05</td>\n",
       "      <td>10.4</td>\n",
       "      <td>8</td>\n",
       "      <td>10.8</td>\n",
       "    </tr>\n",
       "    <tr>\n",
       "      <th>7</th>\n",
       "      <td>2</td>\n",
       "      <td>2007-05-04</td>\n",
       "      <td>78</td>\n",
       "      <td>51</td>\n",
       "      <td>M</td>\n",
       "      <td>M</td>\n",
       "      <td>42</td>\n",
       "      <td>50</td>\n",
       "      <td>M</td>\n",
       "      <td>M</td>\n",
       "      <td>-</td>\n",
       "      <td>-</td>\n",
       "      <td></td>\n",
       "      <td>M</td>\n",
       "      <td>M</td>\n",
       "      <td>M</td>\n",
       "      <td>0.00</td>\n",
       "      <td>29.36</td>\n",
       "      <td>30.04</td>\n",
       "      <td>10.1</td>\n",
       "      <td>7</td>\n",
       "      <td>10.4</td>\n",
       "    </tr>\n",
       "    <tr>\n",
       "      <th>8</th>\n",
       "      <td>1</td>\n",
       "      <td>2007-05-05</td>\n",
       "      <td>66</td>\n",
       "      <td>53</td>\n",
       "      <td>60</td>\n",
       "      <td>5</td>\n",
       "      <td>38</td>\n",
       "      <td>49</td>\n",
       "      <td>5</td>\n",
       "      <td>0</td>\n",
       "      <td>0443</td>\n",
       "      <td>1853</td>\n",
       "      <td></td>\n",
       "      <td>0</td>\n",
       "      <td>M</td>\n",
       "      <td>0.0</td>\n",
       "      <td>T</td>\n",
       "      <td>29.40</td>\n",
       "      <td>30.10</td>\n",
       "      <td>11.7</td>\n",
       "      <td>7</td>\n",
       "      <td>12.0</td>\n",
       "    </tr>\n",
       "    <tr>\n",
       "      <th>9</th>\n",
       "      <td>2</td>\n",
       "      <td>2007-05-05</td>\n",
       "      <td>66</td>\n",
       "      <td>54</td>\n",
       "      <td>60</td>\n",
       "      <td>M</td>\n",
       "      <td>39</td>\n",
       "      <td>50</td>\n",
       "      <td>5</td>\n",
       "      <td>0</td>\n",
       "      <td>-</td>\n",
       "      <td>-</td>\n",
       "      <td></td>\n",
       "      <td>M</td>\n",
       "      <td>M</td>\n",
       "      <td>M</td>\n",
       "      <td>T</td>\n",
       "      <td>29.46</td>\n",
       "      <td>30.09</td>\n",
       "      <td>11.2</td>\n",
       "      <td>7</td>\n",
       "      <td>11.5</td>\n",
       "    </tr>\n",
       "    <tr>\n",
       "      <th>10</th>\n",
       "      <td>1</td>\n",
       "      <td>2007-05-06</td>\n",
       "      <td>68</td>\n",
       "      <td>49</td>\n",
       "      <td>59</td>\n",
       "      <td>4</td>\n",
       "      <td>30</td>\n",
       "      <td>46</td>\n",
       "      <td>6</td>\n",
       "      <td>0</td>\n",
       "      <td>0442</td>\n",
       "      <td>1855</td>\n",
       "      <td></td>\n",
       "      <td>0</td>\n",
       "      <td>M</td>\n",
       "      <td>0.0</td>\n",
       "      <td>0.00</td>\n",
       "      <td>29.57</td>\n",
       "      <td>30.29</td>\n",
       "      <td>14.4</td>\n",
       "      <td>11</td>\n",
       "      <td>15.0</td>\n",
       "    </tr>\n",
       "    <tr>\n",
       "      <th>11</th>\n",
       "      <td>2</td>\n",
       "      <td>2007-05-06</td>\n",
       "      <td>68</td>\n",
       "      <td>52</td>\n",
       "      <td>60</td>\n",
       "      <td>M</td>\n",
       "      <td>30</td>\n",
       "      <td>46</td>\n",
       "      <td>5</td>\n",
       "      <td>0</td>\n",
       "      <td>-</td>\n",
       "      <td>-</td>\n",
       "      <td></td>\n",
       "      <td>M</td>\n",
       "      <td>M</td>\n",
       "      <td>M</td>\n",
       "      <td>0.00</td>\n",
       "      <td>29.62</td>\n",
       "      <td>30.28</td>\n",
       "      <td>13.8</td>\n",
       "      <td>10</td>\n",
       "      <td>14.5</td>\n",
       "    </tr>\n",
       "    <tr>\n",
       "      <th>12</th>\n",
       "      <td>1</td>\n",
       "      <td>2007-05-07</td>\n",
       "      <td>83</td>\n",
       "      <td>47</td>\n",
       "      <td>65</td>\n",
       "      <td>10</td>\n",
       "      <td>41</td>\n",
       "      <td>54</td>\n",
       "      <td>0</td>\n",
       "      <td>0</td>\n",
       "      <td>0441</td>\n",
       "      <td>1856</td>\n",
       "      <td>RA</td>\n",
       "      <td>0</td>\n",
       "      <td>M</td>\n",
       "      <td>0.0</td>\n",
       "      <td>T</td>\n",
       "      <td>29.38</td>\n",
       "      <td>30.12</td>\n",
       "      <td>8.6</td>\n",
       "      <td>18</td>\n",
       "      <td>10.5</td>\n",
       "    </tr>\n",
       "    <tr>\n",
       "      <th>13</th>\n",
       "      <td>2</td>\n",
       "      <td>2007-05-07</td>\n",
       "      <td>84</td>\n",
       "      <td>50</td>\n",
       "      <td>67</td>\n",
       "      <td>M</td>\n",
       "      <td>39</td>\n",
       "      <td>53</td>\n",
       "      <td>0</td>\n",
       "      <td>2</td>\n",
       "      <td>-</td>\n",
       "      <td>-</td>\n",
       "      <td></td>\n",
       "      <td>M</td>\n",
       "      <td>M</td>\n",
       "      <td>M</td>\n",
       "      <td>0.00</td>\n",
       "      <td>29.44</td>\n",
       "      <td>30.12</td>\n",
       "      <td>8.5</td>\n",
       "      <td>17</td>\n",
       "      <td>9.9</td>\n",
       "    </tr>\n",
       "    <tr>\n",
       "      <th>14</th>\n",
       "      <td>1</td>\n",
       "      <td>2007-05-08</td>\n",
       "      <td>82</td>\n",
       "      <td>54</td>\n",
       "      <td>68</td>\n",
       "      <td>12</td>\n",
       "      <td>58</td>\n",
       "      <td>62</td>\n",
       "      <td>0</td>\n",
       "      <td>3</td>\n",
       "      <td>0439</td>\n",
       "      <td>1857</td>\n",
       "      <td>BR</td>\n",
       "      <td>0</td>\n",
       "      <td>M</td>\n",
       "      <td>0.0</td>\n",
       "      <td>0.00</td>\n",
       "      <td>29.29</td>\n",
       "      <td>30.03</td>\n",
       "      <td>2.7</td>\n",
       "      <td>11</td>\n",
       "      <td>5.8</td>\n",
       "    </tr>\n",
       "    <tr>\n",
       "      <th>15</th>\n",
       "      <td>2</td>\n",
       "      <td>2007-05-08</td>\n",
       "      <td>80</td>\n",
       "      <td>60</td>\n",
       "      <td>70</td>\n",
       "      <td>M</td>\n",
       "      <td>57</td>\n",
       "      <td>63</td>\n",
       "      <td>0</td>\n",
       "      <td>5</td>\n",
       "      <td>-</td>\n",
       "      <td>-</td>\n",
       "      <td>HZ</td>\n",
       "      <td>M</td>\n",
       "      <td>M</td>\n",
       "      <td>M</td>\n",
       "      <td>T</td>\n",
       "      <td>29.36</td>\n",
       "      <td>30.02</td>\n",
       "      <td>2.5</td>\n",
       "      <td>8</td>\n",
       "      <td>5.4</td>\n",
       "    </tr>\n",
       "    <tr>\n",
       "      <th>16</th>\n",
       "      <td>1</td>\n",
       "      <td>2007-05-09</td>\n",
       "      <td>77</td>\n",
       "      <td>61</td>\n",
       "      <td>69</td>\n",
       "      <td>13</td>\n",
       "      <td>59</td>\n",
       "      <td>63</td>\n",
       "      <td>0</td>\n",
       "      <td>4</td>\n",
       "      <td>0438</td>\n",
       "      <td>1858</td>\n",
       "      <td>BR HZ</td>\n",
       "      <td>0</td>\n",
       "      <td>M</td>\n",
       "      <td>0.0</td>\n",
       "      <td>0.13</td>\n",
       "      <td>29.21</td>\n",
       "      <td>29.94</td>\n",
       "      <td>3.9</td>\n",
       "      <td>9</td>\n",
       "      <td>6.2</td>\n",
       "    </tr>\n",
       "    <tr>\n",
       "      <th>17</th>\n",
       "      <td>2</td>\n",
       "      <td>2007-05-09</td>\n",
       "      <td>76</td>\n",
       "      <td>63</td>\n",
       "      <td>70</td>\n",
       "      <td>M</td>\n",
       "      <td>60</td>\n",
       "      <td>63</td>\n",
       "      <td>0</td>\n",
       "      <td>5</td>\n",
       "      <td>-</td>\n",
       "      <td>-</td>\n",
       "      <td>BR HZ</td>\n",
       "      <td>M</td>\n",
       "      <td>M</td>\n",
       "      <td>M</td>\n",
       "      <td>0.02</td>\n",
       "      <td>29.28</td>\n",
       "      <td>29.93</td>\n",
       "      <td>3.9</td>\n",
       "      <td>7</td>\n",
       "      <td>5.9</td>\n",
       "    </tr>\n",
       "    <tr>\n",
       "      <th>18</th>\n",
       "      <td>1</td>\n",
       "      <td>2007-05-10</td>\n",
       "      <td>84</td>\n",
       "      <td>56</td>\n",
       "      <td>70</td>\n",
       "      <td>14</td>\n",
       "      <td>52</td>\n",
       "      <td>60</td>\n",
       "      <td>0</td>\n",
       "      <td>5</td>\n",
       "      <td>0437</td>\n",
       "      <td>1859</td>\n",
       "      <td>BR</td>\n",
       "      <td>0</td>\n",
       "      <td>M</td>\n",
       "      <td>0.0</td>\n",
       "      <td>0.00</td>\n",
       "      <td>29.20</td>\n",
       "      <td>29.92</td>\n",
       "      <td>0.7</td>\n",
       "      <td>17</td>\n",
       "      <td>4.1</td>\n",
       "    </tr>\n",
       "    <tr>\n",
       "      <th>19</th>\n",
       "      <td>2</td>\n",
       "      <td>2007-05-10</td>\n",
       "      <td>83</td>\n",
       "      <td>59</td>\n",
       "      <td>71</td>\n",
       "      <td>M</td>\n",
       "      <td>52</td>\n",
       "      <td>61</td>\n",
       "      <td>0</td>\n",
       "      <td>6</td>\n",
       "      <td>-</td>\n",
       "      <td>-</td>\n",
       "      <td>BR HZ</td>\n",
       "      <td>M</td>\n",
       "      <td>M</td>\n",
       "      <td>M</td>\n",
       "      <td>0.00</td>\n",
       "      <td>29.26</td>\n",
       "      <td>29.91</td>\n",
       "      <td>2.0</td>\n",
       "      <td>9</td>\n",
       "      <td>3.9</td>\n",
       "    </tr>\n",
       "  </tbody>\n",
       "</table>\n",
       "</div>"
      ],
      "text/plain": [
       "    Station        Date  Tmax  Tmin Tavg Depart  DewPoint WetBulb Heat Cool  \\\n",
       "0         1  2007-05-01    83    50   67     14        51      56    0    2   \n",
       "1         2  2007-05-01    84    52   68      M        51      57    0    3   \n",
       "2         1  2007-05-02    59    42   51     -3        42      47   14    0   \n",
       "3         2  2007-05-02    60    43   52      M        42      47   13    0   \n",
       "4         1  2007-05-03    66    46   56      2        40      48    9    0   \n",
       "5         2  2007-05-03    67    48   58      M        40      50    7    0   \n",
       "6         1  2007-05-04    66    49   58      4        41      50    7    0   \n",
       "7         2  2007-05-04    78    51    M      M        42      50    M    M   \n",
       "8         1  2007-05-05    66    53   60      5        38      49    5    0   \n",
       "9         2  2007-05-05    66    54   60      M        39      50    5    0   \n",
       "10        1  2007-05-06    68    49   59      4        30      46    6    0   \n",
       "11        2  2007-05-06    68    52   60      M        30      46    5    0   \n",
       "12        1  2007-05-07    83    47   65     10        41      54    0    0   \n",
       "13        2  2007-05-07    84    50   67      M        39      53    0    2   \n",
       "14        1  2007-05-08    82    54   68     12        58      62    0    3   \n",
       "15        2  2007-05-08    80    60   70      M        57      63    0    5   \n",
       "16        1  2007-05-09    77    61   69     13        59      63    0    4   \n",
       "17        2  2007-05-09    76    63   70      M        60      63    0    5   \n",
       "18        1  2007-05-10    84    56   70     14        52      60    0    5   \n",
       "19        2  2007-05-10    83    59   71      M        52      61    0    6   \n",
       "\n",
       "   Sunrise Sunset CodeSum Depth Water1 SnowFall PrecipTotal StnPressure  \\\n",
       "0     0448   1849             0      M      0.0        0.00       29.10   \n",
       "1        -      -             M      M        M        0.00       29.18   \n",
       "2     0447   1850      BR     0      M      0.0        0.00       29.38   \n",
       "3        -      -   BR HZ     M      M        M        0.00       29.44   \n",
       "4     0446   1851             0      M      0.0        0.00       29.39   \n",
       "5        -      -      HZ     M      M        M        0.00       29.46   \n",
       "6     0444   1852      RA     0      M      0.0           T       29.31   \n",
       "7        -      -             M      M        M        0.00       29.36   \n",
       "8     0443   1853             0      M      0.0           T       29.40   \n",
       "9        -      -             M      M        M           T       29.46   \n",
       "10    0442   1855             0      M      0.0        0.00       29.57   \n",
       "11       -      -             M      M        M        0.00       29.62   \n",
       "12    0441   1856      RA     0      M      0.0           T       29.38   \n",
       "13       -      -             M      M        M        0.00       29.44   \n",
       "14    0439   1857      BR     0      M      0.0        0.00       29.29   \n",
       "15       -      -      HZ     M      M        M           T       29.36   \n",
       "16    0438   1858   BR HZ     0      M      0.0        0.13       29.21   \n",
       "17       -      -   BR HZ     M      M        M        0.02       29.28   \n",
       "18    0437   1859      BR     0      M      0.0        0.00       29.20   \n",
       "19       -      -   BR HZ     M      M        M        0.00       29.26   \n",
       "\n",
       "   SeaLevel  ResultSpeed  ResultDir AvgSpeed  \n",
       "0     29.82          1.7         27      9.2  \n",
       "1     29.82          2.7         25      9.6  \n",
       "2     30.09         13.0          4     13.4  \n",
       "3     30.08         13.3          2     13.4  \n",
       "4     30.12         11.7          7     11.9  \n",
       "5     30.12         12.9          6     13.2  \n",
       "6     30.05         10.4          8     10.8  \n",
       "7     30.04         10.1          7     10.4  \n",
       "8     30.10         11.7          7     12.0  \n",
       "9     30.09         11.2          7     11.5  \n",
       "10    30.29         14.4         11     15.0  \n",
       "11    30.28         13.8         10     14.5  \n",
       "12    30.12          8.6         18     10.5  \n",
       "13    30.12          8.5         17      9.9  \n",
       "14    30.03          2.7         11      5.8  \n",
       "15    30.02          2.5          8      5.4  \n",
       "16    29.94          3.9          9      6.2  \n",
       "17    29.93          3.9          7      5.9  \n",
       "18    29.92          0.7         17      4.1  \n",
       "19    29.91          2.0          9      3.9  "
      ]
     },
     "execution_count": 4,
     "metadata": {},
     "output_type": "execute_result"
    }
   ],
   "source": [
    "weather_raw.head(20)"
   ]
  },
  {
   "cell_type": "markdown",
   "metadata": {},
   "source": [
    "## Missing 'Tavg' values"
   ]
  },
  {
   "cell_type": "code",
   "execution_count": 5,
   "metadata": {},
   "outputs": [],
   "source": [
    "weather_temp = weather_raw.loc[(weather_raw['Tavg'] != 'M'), :].copy()"
   ]
  },
  {
   "cell_type": "code",
   "execution_count": 6,
   "metadata": {},
   "outputs": [],
   "source": [
    "weather_temp['Tavg_manual'] = (weather_temp['Tmax'] + weather_temp['Tmin'])/2"
   ]
  },
  {
   "cell_type": "code",
   "execution_count": 7,
   "metadata": {},
   "outputs": [
    {
     "data": {
      "text/plain": [
       "-0.5    1478\n",
       " 0.0    1455\n",
       "dtype: int64"
      ]
     },
     "execution_count": 7,
     "metadata": {},
     "output_type": "execute_result"
    }
   ],
   "source": [
    "(weather_temp['Tavg_manual'] - weather_temp['Tavg'].map(lambda x: int(x))).value_counts()"
   ]
  },
  {
   "cell_type": "code",
   "execution_count": 8,
   "metadata": {},
   "outputs": [],
   "source": [
    "# Checked against data documentation and of rows that have missing Tavg\n",
    "# Manually solving for Tavg\n",
    "\n",
    "weather_raw['Tavg_manual'] = (weather_raw['Tmax'] + weather_raw['Tmin'])/2"
   ]
  },
  {
   "cell_type": "code",
   "execution_count": 9,
   "metadata": {},
   "outputs": [],
   "source": [
    "# Maybe range of temperatures also?\n",
    "\n",
    "weather_raw['Trange'] = weather_raw['Tmax'] - weather_raw['Tmin']"
   ]
  },
  {
   "cell_type": "markdown",
   "metadata": {},
   "source": [
    "## Missing WetBulb values and seeing correlation of Heat/Cool vs Tavg"
   ]
  },
  {
   "cell_type": "code",
   "execution_count": 10,
   "metadata": {},
   "outputs": [],
   "source": [
    "weather_wet_dew = weather_raw.loc[((weather_raw['WetBulb'] != 'M') & (weather_raw['Heat'] != 'M')), \\\n",
    "                                  ['DewPoint', 'WetBulb', 'Heat', 'Cool', 'Tavg_manual']]\n",
    "weather_wet_dew['WetBulb'] = weather_wet_dew['WetBulb'].map(lambda x: int(x))\n",
    "weather_wet_dew['Heat'] = weather_wet_dew['Heat'].map(lambda x: int(x))\n",
    "weather_wet_dew['Cool'] = weather_wet_dew['Cool'].map(lambda x: int(x))"
   ]
  },
  {
   "cell_type": "code",
   "execution_count": 11,
   "metadata": {},
   "outputs": [
    {
     "data": {
      "text/html": [
       "<div>\n",
       "<style scoped>\n",
       "    .dataframe tbody tr th:only-of-type {\n",
       "        vertical-align: middle;\n",
       "    }\n",
       "\n",
       "    .dataframe tbody tr th {\n",
       "        vertical-align: top;\n",
       "    }\n",
       "\n",
       "    .dataframe thead th {\n",
       "        text-align: right;\n",
       "    }\n",
       "</style>\n",
       "<table border=\"1\" class=\"dataframe\">\n",
       "  <thead>\n",
       "    <tr style=\"text-align: right;\">\n",
       "      <th></th>\n",
       "      <th>DewPoint</th>\n",
       "      <th>WetBulb</th>\n",
       "      <th>Heat</th>\n",
       "      <th>Cool</th>\n",
       "      <th>Tavg_manual</th>\n",
       "    </tr>\n",
       "  </thead>\n",
       "  <tbody>\n",
       "    <tr>\n",
       "      <th>DewPoint</th>\n",
       "      <td>1.000000</td>\n",
       "      <td>0.972442</td>\n",
       "      <td>-0.773645</td>\n",
       "      <td>0.769713</td>\n",
       "      <td>0.882837</td>\n",
       "    </tr>\n",
       "    <tr>\n",
       "      <th>WetBulb</th>\n",
       "      <td>0.972442</td>\n",
       "      <td>1.000000</td>\n",
       "      <td>-0.847774</td>\n",
       "      <td>0.834717</td>\n",
       "      <td>0.962280</td>\n",
       "    </tr>\n",
       "    <tr>\n",
       "      <th>Heat</th>\n",
       "      <td>-0.773645</td>\n",
       "      <td>-0.847774</td>\n",
       "      <td>1.000000</td>\n",
       "      <td>-0.529397</td>\n",
       "      <td>-0.870932</td>\n",
       "    </tr>\n",
       "    <tr>\n",
       "      <th>Cool</th>\n",
       "      <td>0.769713</td>\n",
       "      <td>0.834717</td>\n",
       "      <td>-0.529397</td>\n",
       "      <td>1.000000</td>\n",
       "      <td>0.877478</td>\n",
       "    </tr>\n",
       "    <tr>\n",
       "      <th>Tavg_manual</th>\n",
       "      <td>0.882837</td>\n",
       "      <td>0.962280</td>\n",
       "      <td>-0.870932</td>\n",
       "      <td>0.877478</td>\n",
       "      <td>1.000000</td>\n",
       "    </tr>\n",
       "  </tbody>\n",
       "</table>\n",
       "</div>"
      ],
      "text/plain": [
       "             DewPoint   WetBulb      Heat      Cool  Tavg_manual\n",
       "DewPoint     1.000000  0.972442 -0.773645  0.769713     0.882837\n",
       "WetBulb      0.972442  1.000000 -0.847774  0.834717     0.962280\n",
       "Heat        -0.773645 -0.847774  1.000000 -0.529397    -0.870932\n",
       "Cool         0.769713  0.834717 -0.529397  1.000000     0.877478\n",
       "Tavg_manual  0.882837  0.962280 -0.870932  0.877478     1.000000"
      ]
     },
     "execution_count": 11,
     "metadata": {},
     "output_type": "execute_result"
    }
   ],
   "source": [
    "# They're all pretty correlated to Tavg so just going to drop them\n",
    "\n",
    "weather_wet_dew.corr()"
   ]
  },
  {
   "cell_type": "markdown",
   "metadata": {},
   "source": [
    "## Amount of sunlight hours - just for fun?"
   ]
  },
  {
   "cell_type": "code",
   "execution_count": 12,
   "metadata": {},
   "outputs": [],
   "source": [
    "weather_sun = weather_raw.loc[weather_raw['Station'] == 1].copy()"
   ]
  },
  {
   "cell_type": "code",
   "execution_count": 13,
   "metadata": {},
   "outputs": [
    {
     "data": {
      "text/plain": [
       "array(['1849', '1850', '1851', '1852', '1853', '1855', '1856', '1857',\n",
       "       '1858', '1859', '1860', '1901', '1902', '1903', '1904', '1905',\n",
       "       '1906', '1907', '1908', '1909', '1910', '1911', '1912', '1913',\n",
       "       '1914', '1915', '1916', '1917', '1918', '1919', '1920', '1921',\n",
       "       '1922', '1923', '1924', '1925', '1926', '1927', '1928', '1929',\n",
       "       '1930', '1931', '1900', '1854', '1848', '1846', '1845', '1843',\n",
       "       '1842', '1840', '1839', '1837', '1835', '1834', '1832', '1831',\n",
       "       '1829', '1827', '1826', '1824', '1822', '1821', '1819', '1817',\n",
       "       '1815', '1814', '1812', '1810', '1809', '1807', '1805', '1803',\n",
       "       '1760', '1758', '1756', '1755', '1753', '1751', '1749', '1748',\n",
       "       '1746', '1744', '1742', '1741', '1739', '1737', '1735', '1734',\n",
       "       '1732', '1730', '1729', '1727', '1725', '1724', '1722', '1720',\n",
       "       '1719', '1717', '1715', '1714', '1712', '1711', '1709', '1707',\n",
       "       '1706', '1704', '1703', '1701', '1660', '1658', '1657', '1656',\n",
       "       '1654', '1653', '1651', '1650', '1649', '1647'], dtype=object)"
      ]
     },
     "execution_count": 13,
     "metadata": {},
     "output_type": "execute_result"
    }
   ],
   "source": [
    "# Stupid 'Sunset' entries where they put minutes up to 60 instead of going to the next hour\n",
    "\n",
    "weather_sun['Sunset'].unique()"
   ]
  },
  {
   "cell_type": "code",
   "execution_count": 14,
   "metadata": {},
   "outputs": [],
   "source": [
    "# Cleaning aforementioned stupidity above\n",
    "\n",
    "weather_sun['Sunset'] = weather_sun['Sunset'].map(lambda x: (str(int(x[0:2]) + 1) + '00') if x[2:4] == '60' else x)"
   ]
  },
  {
   "cell_type": "code",
   "execution_count": 15,
   "metadata": {
    "scrolled": true
   },
   "outputs": [],
   "source": [
    "weather_sun['rise'] = weather_sun['Sunrise'].map(lambda x: datetime.strptime(x, '%H%M'))\n",
    "weather_sun['set'] = weather_sun['Sunset'].map(lambda x: datetime.strptime(x, '%H%M'))"
   ]
  },
  {
   "cell_type": "code",
   "execution_count": 16,
   "metadata": {
    "scrolled": false
   },
   "outputs": [],
   "source": [
    "weather_sun['daylight'] = (weather_sun['set'] - weather_sun['rise']).map(lambda x: x.seconds / 60)"
   ]
  },
  {
   "cell_type": "code",
   "execution_count": 17,
   "metadata": {
    "scrolled": true
   },
   "outputs": [
    {
     "data": {
      "text/html": [
       "<div>\n",
       "<style scoped>\n",
       "    .dataframe tbody tr th:only-of-type {\n",
       "        vertical-align: middle;\n",
       "    }\n",
       "\n",
       "    .dataframe tbody tr th {\n",
       "        vertical-align: top;\n",
       "    }\n",
       "\n",
       "    .dataframe thead th {\n",
       "        text-align: right;\n",
       "    }\n",
       "</style>\n",
       "<table border=\"1\" class=\"dataframe\">\n",
       "  <thead>\n",
       "    <tr style=\"text-align: right;\">\n",
       "      <th></th>\n",
       "      <th>daylight</th>\n",
       "      <th>Tavg_manual</th>\n",
       "    </tr>\n",
       "  </thead>\n",
       "  <tbody>\n",
       "    <tr>\n",
       "      <th>daylight</th>\n",
       "      <td>1.000000</td>\n",
       "      <td>0.553301</td>\n",
       "    </tr>\n",
       "    <tr>\n",
       "      <th>Tavg_manual</th>\n",
       "      <td>0.553301</td>\n",
       "      <td>1.000000</td>\n",
       "    </tr>\n",
       "  </tbody>\n",
       "</table>\n",
       "</div>"
      ],
      "text/plain": [
       "             daylight  Tavg_manual\n",
       "daylight     1.000000     0.553301\n",
       "Tavg_manual  0.553301     1.000000"
      ]
     },
     "execution_count": 17,
     "metadata": {},
     "output_type": "execute_result"
    }
   ],
   "source": [
    "# Actually doesn't share that much correlation with average temperature, so may be we will want to add this in\n",
    "\n",
    "weather_sun[['daylight', 'Tavg_manual']].corr()"
   ]
  },
  {
   "cell_type": "code",
   "execution_count": 18,
   "metadata": {
    "scrolled": true
   },
   "outputs": [],
   "source": [
    "# Joining it back into cleaning dataframe for weather\n",
    "\n",
    "weather_raw = weather_raw.merge(weather_sun[['Date', 'daylight']], on = 'Date')"
   ]
  },
  {
   "cell_type": "markdown",
   "metadata": {},
   "source": [
    "## Looking at some other columns"
   ]
  },
  {
   "cell_type": "code",
   "execution_count": 19,
   "metadata": {},
   "outputs": [
    {
     "data": {
      "text/plain": [
       "M    1472\n",
       "0    1472\n",
       "Name: Depth, dtype: int64"
      ]
     },
     "execution_count": 19,
     "metadata": {},
     "output_type": "execute_result"
    }
   ],
   "source": [
    "# Dropping this column, only one station collects and it's all 0 anyway\n",
    "\n",
    "weather_raw['Depth'].value_counts()"
   ]
  },
  {
   "cell_type": "code",
   "execution_count": 20,
   "metadata": {},
   "outputs": [
    {
     "data": {
      "text/plain": [
       "M    2944\n",
       "Name: Water1, dtype: int64"
      ]
     },
     "execution_count": 20,
     "metadata": {},
     "output_type": "execute_result"
    }
   ],
   "source": [
    "# Dropping this column\n",
    "\n",
    "weather_raw['Water1'].value_counts()"
   ]
  },
  {
   "cell_type": "code",
   "execution_count": 21,
   "metadata": {},
   "outputs": [
    {
     "data": {
      "text/plain": [
       "M      1472\n",
       "0.0    1459\n",
       "  T      12\n",
       "0.1       1\n",
       "Name: SnowFall, dtype: int64"
      ]
     },
     "execution_count": 21,
     "metadata": {},
     "output_type": "execute_result"
    }
   ],
   "source": [
    "# Dropping this column, all near 0 anyway and seems like only one station collects it\n",
    "\n",
    "weather_raw['SnowFall'].value_counts()"
   ]
  },
  {
   "cell_type": "code",
   "execution_count": 22,
   "metadata": {
    "scrolled": true
   },
   "outputs": [
    {
     "data": {
      "text/plain": [
       "0.00    1577\n",
       "  T      318\n",
       "0.01     127\n",
       "0.02      63\n",
       "0.03      46\n",
       "0.04      36\n",
       "0.05      32\n",
       "0.12      28\n",
       "0.08      28\n",
       "0.06      27\n",
       "0.07      23\n",
       "0.16      21\n",
       "0.09      21\n",
       "0.14      20\n",
       "0.11      20\n",
       "0.17      17\n",
       "0.28      15\n",
       "0.18      14\n",
       "0.19      14\n",
       "0.13      14\n",
       "0.15      13\n",
       "0.20      13\n",
       "0.25      11\n",
       "0.26      11\n",
       "0.23      11\n",
       "0.24      10\n",
       "0.10      10\n",
       "0.29       9\n",
       "0.21       9\n",
       "0.31       9\n",
       "        ... \n",
       "1.49       1\n",
       "2.60       1\n",
       "1.18       1\n",
       "3.17       1\n",
       "0.91       1\n",
       "3.31       1\n",
       "1.38       1\n",
       "2.03       1\n",
       "1.07       1\n",
       "3.97       1\n",
       "1.46       1\n",
       "1.26       1\n",
       "3.07       1\n",
       "2.17       1\n",
       "6.64       1\n",
       "0.76       1\n",
       "2.20       1\n",
       "1.09       1\n",
       "0.90       1\n",
       "1.22       1\n",
       "1.96       1\n",
       "2.68       1\n",
       "1.19       1\n",
       "1.88       1\n",
       "1.75       1\n",
       "1.82       1\n",
       "1.30       1\n",
       "2.24       1\n",
       "2.09       1\n",
       "3.15       1\n",
       "Name: PrecipTotal, Length: 168, dtype: int64"
      ]
     },
     "execution_count": 22,
     "metadata": {},
     "output_type": "execute_result"
    }
   ],
   "source": [
    "# Trace is between 0.00 and 0.01\n",
    "\n",
    "weather_raw['PrecipTotal'].value_counts()"
   ]
  },
  {
   "cell_type": "code",
   "execution_count": 23,
   "metadata": {},
   "outputs": [],
   "source": [
    "weather_raw['PrecipTotal'] = weather_raw['PrecipTotal'].replace('  T', 0.00)"
   ]
  },
  {
   "cell_type": "code",
   "execution_count": 24,
   "metadata": {
    "scrolled": true
   },
   "outputs": [
    {
     "data": {
      "text/plain": [
       "0.00    1577\n",
       "0.0      318\n",
       "0.01     127\n",
       "0.02      63\n",
       "0.03      46\n",
       "0.04      36\n",
       "0.05      32\n",
       "0.08      28\n",
       "0.12      28\n",
       "0.06      27\n",
       "0.07      23\n",
       "0.16      21\n",
       "0.09      21\n",
       "0.11      20\n",
       "0.14      20\n",
       "0.17      17\n",
       "0.28      15\n",
       "0.18      14\n",
       "0.19      14\n",
       "0.13      14\n",
       "0.20      13\n",
       "0.15      13\n",
       "0.23      11\n",
       "0.25      11\n",
       "0.26      11\n",
       "0.10      10\n",
       "0.24      10\n",
       "0.29       9\n",
       "0.31       9\n",
       "0.43       9\n",
       "        ... \n",
       "1.75       1\n",
       "1.30       1\n",
       "2.24       1\n",
       "1.57       1\n",
       "1.46       1\n",
       "1.25       1\n",
       "2.60       1\n",
       "3.97       1\n",
       "1.35       1\n",
       "2.35       1\n",
       "2.90       1\n",
       "1.48       1\n",
       "1.58       1\n",
       "1.09       1\n",
       "2.03       1\n",
       "0.76       1\n",
       "1.96       1\n",
       "3.07       1\n",
       "1.22       1\n",
       "0.90       1\n",
       "6.64       1\n",
       "2.20       1\n",
       "1.90       1\n",
       "2.17       1\n",
       "1.49       1\n",
       "1.26       1\n",
       "3.17       1\n",
       "2.09       1\n",
       "2.79       1\n",
       "1.19       1\n",
       "Name: PrecipTotal, Length: 168, dtype: int64"
      ]
     },
     "execution_count": 24,
     "metadata": {},
     "output_type": "execute_result"
    }
   ],
   "source": [
    "# Trace is between 0.00 and 0.01\n",
    "\n",
    "weather_raw['PrecipTotal'].value_counts()"
   ]
  },
  {
   "cell_type": "code",
   "execution_count": 25,
   "metadata": {},
   "outputs": [
    {
     "data": {
      "text/plain": [
       "<matplotlib.axes._subplots.AxesSubplot at 0xb4b8a90>"
      ]
     },
     "execution_count": 25,
     "metadata": {},
     "output_type": "execute_result"
    },
    {
     "data": {
      "image/png": "[encoded data removed]",
      "text/plain": [
       "<Figure size 432x288 with 1 Axes>"
      ]
     },
     "metadata": {
      "needs_background": "light"
     },
     "output_type": "display_data"
    }
   ],
   "source": [
    "# Meh, just going to impute mean into missing StnPressure values\n",
    "\n",
    "sns.distplot(weather_raw.loc[(weather_raw['StnPressure'] != 'M'), 'StnPressure'].map(lambda x: float(x)))"
   ]
  },
  {
   "cell_type": "code",
   "execution_count": 26,
   "metadata": {},
   "outputs": [
    {
     "data": {
      "text/plain": [
       "<matplotlib.axes._subplots.AxesSubplot at 0xbfb8d30>"
      ]
     },
     "execution_count": 26,
     "metadata": {},
     "output_type": "execute_result"
    },
    {
     "data": {
      "image/png": "[encoded data removed]",
      "text/plain": [
       "<Figure size 432x288 with 1 Axes>"
      ]
     },
     "metadata": {
      "needs_background": "light"
     },
     "output_type": "display_data"
    }
   ],
   "source": [
    "# Sama sama, just going to impute mean into missing AvgSpeed values\n",
    "\n",
    "sns.distplot(weather_raw.loc[(weather_raw['AvgSpeed'] != 'M'), 'AvgSpeed'].map(lambda x: float(x)))"
   ]
  },
  {
   "cell_type": "code",
   "execution_count": 27,
   "metadata": {},
   "outputs": [],
   "source": [
    "imp_mean = SimpleImputer(missing_values = np.nan, strategy = 'mean')"
   ]
  },
  {
   "cell_type": "code",
   "execution_count": 28,
   "metadata": {},
   "outputs": [],
   "source": [
    "weather_raw['StnPressure'] = weather_raw['StnPressure'].map(lambda x: np.nan if x == 'M' else x)\n",
    "weather_raw['AvgSpeed'] = weather_raw['AvgSpeed'].map(lambda x: np.nan if x == 'M' else x)\n",
    "\n",
    "weather_raw[['StnPressure', 'AvgSpeed']] = imp_mean.fit_transform(weather_raw[['StnPressure', 'AvgSpeed']])"
   ]
  },
  {
   "cell_type": "code",
   "execution_count": 29,
   "metadata": {},
   "outputs": [
    {
     "data": {
      "text/plain": [
       "Station          int64\n",
       "Date            object\n",
       "Tmax             int64\n",
       "Tmin             int64\n",
       "Tavg            object\n",
       "Depart          object\n",
       "DewPoint         int64\n",
       "WetBulb         object\n",
       "Heat            object\n",
       "Cool            object\n",
       "Sunrise         object\n",
       "Sunset          object\n",
       "CodeSum         object\n",
       "Depth           object\n",
       "Water1          object\n",
       "SnowFall        object\n",
       "PrecipTotal     object\n",
       "StnPressure    float64\n",
       "SeaLevel        object\n",
       "ResultSpeed    float64\n",
       "ResultDir        int64\n",
       "AvgSpeed       float64\n",
       "Tavg_manual    float64\n",
       "Trange           int64\n",
       "daylight       float64\n",
       "dtype: object"
      ]
     },
     "execution_count": 29,
     "metadata": {},
     "output_type": "execute_result"
    }
   ],
   "source": [
    "weather_raw.dtypes"
   ]
  },
  {
   "cell_type": "markdown",
   "metadata": {},
   "source": [
    "# The goods are here"
   ]
  },
  {
   "cell_type": "code",
   "execution_count": 30,
   "metadata": {},
   "outputs": [],
   "source": [
    "df_weather = weather_raw[['Station', 'Date', 'Tavg_manual', 'Trange', 'DewPoint', 'StnPressure', 'AvgSpeed', 'daylight']].copy()"
   ]
  },
  {
   "cell_type": "code",
   "execution_count": 31,
   "metadata": {},
   "outputs": [
    {
     "data": {
      "text/html": [
       "<div>\n",
       "<style scoped>\n",
       "    .dataframe tbody tr th:only-of-type {\n",
       "        vertical-align: middle;\n",
       "    }\n",
       "\n",
       "    .dataframe tbody tr th {\n",
       "        vertical-align: top;\n",
       "    }\n",
       "\n",
       "    .dataframe thead th {\n",
       "        text-align: right;\n",
       "    }\n",
       "</style>\n",
       "<table border=\"1\" class=\"dataframe\">\n",
       "  <thead>\n",
       "    <tr style=\"text-align: right;\">\n",
       "      <th></th>\n",
       "      <th>Station</th>\n",
       "      <th>Date</th>\n",
       "      <th>Tavg_manual</th>\n",
       "      <th>Trange</th>\n",
       "      <th>DewPoint</th>\n",
       "      <th>StnPressure</th>\n",
       "      <th>AvgSpeed</th>\n",
       "      <th>daylight</th>\n",
       "    </tr>\n",
       "  </thead>\n",
       "  <tbody>\n",
       "    <tr>\n",
       "      <th>0</th>\n",
       "      <td>1</td>\n",
       "      <td>2007-05-01</td>\n",
       "      <td>66.5</td>\n",
       "      <td>33</td>\n",
       "      <td>51</td>\n",
       "      <td>29.10</td>\n",
       "      <td>9.2</td>\n",
       "      <td>841.0</td>\n",
       "    </tr>\n",
       "    <tr>\n",
       "      <th>1</th>\n",
       "      <td>2</td>\n",
       "      <td>2007-05-01</td>\n",
       "      <td>68.0</td>\n",
       "      <td>32</td>\n",
       "      <td>51</td>\n",
       "      <td>29.18</td>\n",
       "      <td>9.6</td>\n",
       "      <td>841.0</td>\n",
       "    </tr>\n",
       "    <tr>\n",
       "      <th>2</th>\n",
       "      <td>1</td>\n",
       "      <td>2007-05-02</td>\n",
       "      <td>50.5</td>\n",
       "      <td>17</td>\n",
       "      <td>42</td>\n",
       "      <td>29.38</td>\n",
       "      <td>13.4</td>\n",
       "      <td>843.0</td>\n",
       "    </tr>\n",
       "    <tr>\n",
       "      <th>3</th>\n",
       "      <td>2</td>\n",
       "      <td>2007-05-02</td>\n",
       "      <td>51.5</td>\n",
       "      <td>17</td>\n",
       "      <td>42</td>\n",
       "      <td>29.44</td>\n",
       "      <td>13.4</td>\n",
       "      <td>843.0</td>\n",
       "    </tr>\n",
       "    <tr>\n",
       "      <th>4</th>\n",
       "      <td>1</td>\n",
       "      <td>2007-05-03</td>\n",
       "      <td>56.0</td>\n",
       "      <td>20</td>\n",
       "      <td>40</td>\n",
       "      <td>29.39</td>\n",
       "      <td>11.9</td>\n",
       "      <td>845.0</td>\n",
       "    </tr>\n",
       "  </tbody>\n",
       "</table>\n",
       "</div>"
      ],
      "text/plain": [
       "   Station        Date  Tavg_manual  Trange  DewPoint  StnPressure  AvgSpeed  \\\n",
       "0        1  2007-05-01         66.5      33        51        29.10       9.2   \n",
       "1        2  2007-05-01         68.0      32        51        29.18       9.6   \n",
       "2        1  2007-05-02         50.5      17        42        29.38      13.4   \n",
       "3        2  2007-05-02         51.5      17        42        29.44      13.4   \n",
       "4        1  2007-05-03         56.0      20        40        29.39      11.9   \n",
       "\n",
       "   daylight  \n",
       "0     841.0  \n",
       "1     841.0  \n",
       "2     843.0  \n",
       "3     843.0  \n",
       "4     845.0  "
      ]
     },
     "execution_count": 31,
     "metadata": {},
     "output_type": "execute_result"
    }
   ],
   "source": [
    "df_weather.head()"
   ]
  },
  {
   "cell_type": "code",
   "execution_count": 32,
   "metadata": {},
   "outputs": [
    {
     "data": {
      "text/plain": [
       "Station          int64\n",
       "Date            object\n",
       "Tavg_manual    float64\n",
       "Trange           int64\n",
       "DewPoint         int64\n",
       "StnPressure    float64\n",
       "AvgSpeed       float64\n",
       "daylight       float64\n",
       "dtype: object"
      ]
     },
     "execution_count": 32,
     "metadata": {},
     "output_type": "execute_result"
    }
   ],
   "source": [
    "df_weather.dtypes"
   ]
  }
 ],
 "metadata": {
  "kernelspec": {
   "display_name": "Python 3",
   "language": "python",
   "name": "python3"
  },
  "language_info": {
   "codemirror_mode": {
    "name": "ipython",
    "version": 3
   },
   "file_extension": ".py",
   "mimetype": "text/x-python",
   "name": "python",
   "nbconvert_exporter": "python",
   "pygments_lexer": "ipython3",
   "version": "3.7.4"
  },
  "toc": {
   "base_numbering": 1,
   "nav_menu": {},
   "number_sections": true,
   "sideBar": true,
   "skip_h1_title": false,
   "title_cell": "Table of Contents",
   "title_sidebar": "Contents",
   "toc_cell": true,
   "toc_position": {},
   "toc_section_display": true,
   "toc_window_display": true
  },
  "varInspector": {
   "cols": {
    "lenName": 16,
    "lenType": 16,
    "lenVar": 40
   },
   "kernels_config": {
    "python": {
     "delete_cmd_postfix": "",
     "delete_cmd_prefix": "del ",
     "library": "var_list.py",
     "varRefreshCmd": "print(var_dic_list())"
    },
    "r": {
     "delete_cmd_postfix": ") ",
     "delete_cmd_prefix": "rm(",
     "library": "var_list.r",
     "varRefreshCmd": "cat(var_dic_list()) "
    }
   },
   "types_to_exclude": [
    "module",
    "function",
    "builtin_function_or_method",
    "instance",
    "_Feature"
   ],
   "window_display": false
  }
 },
 "nbformat": 4,
 "nbformat_minor": 2
}
