{
 "cells": [
  {
   "cell_type": "markdown",
   "metadata": {},
   "source": [
    "# Project 4: West Nile Virus Classification\n",
    "---\n",
    "    Chenyze | Elaine | Kenrick | Raphael\n",
    "    \n",
    "---\n",
    "Project notebook organisation:<br>\n",
    "[1 - Exploratory Data Analysis and Feature Engineering](./1_eda_and_feature_engineering.ipynb)<br>\n",
    "**2 - Model Tuning and Insights** (current notebook)<br>\n",
    "<br>\n",
    "<br>"
   ]
  },
  {
   "cell_type": "markdown",
   "metadata": {
    "toc": true
   },
   "source": [
    "<h1>Table of Contents<span class=\"tocSkip\"></span></h1>\n",
    "<div class=\"toc\"><ul class=\"toc-item\"><li><span><a href=\"#Preparing-Data\" data-toc-modified-id=\"Preparing-Data-1\"><span class=\"toc-item-num\">1&nbsp;&nbsp;</span>Preparing Data</a></span><ul class=\"toc-item\"><li><span><a href=\"#Reading-pickle\" data-toc-modified-id=\"Reading-pickle-1.1\"><span class=\"toc-item-num\">1.1&nbsp;&nbsp;</span>Reading pickle</a></span></li><li><span><a href=\"#Cleaning-up-data\" data-toc-modified-id=\"Cleaning-up-data-1.2\"><span class=\"toc-item-num\">1.2&nbsp;&nbsp;</span>Cleaning up data</a></span></li></ul></li><li><span><a href=\"#Dictionaries-to-call-for-modelling\" data-toc-modified-id=\"Dictionaries-to-call-for-modelling-2\"><span class=\"toc-item-num\">2&nbsp;&nbsp;</span>Dictionaries to call for modelling</a></span></li><li><span><a href=\"#RUNNING-MODEL-AND-PICKLING-IT\" data-toc-modified-id=\"RUNNING-MODEL-AND-PICKLING-IT-3\"><span class=\"toc-item-num\">3&nbsp;&nbsp;</span>RUNNING MODEL AND PICKLING IT</a></span></li><li><span><a href=\"#Cost-Benefit-Analysis\" data-toc-modified-id=\"Cost-Benefit-Analysis-4\"><span class=\"toc-item-num\">4&nbsp;&nbsp;</span>Cost-Benefit Analysis</a></span><ul class=\"toc-item\"><li><span><a href=\"#Cost\" data-toc-modified-id=\"Cost-4.1\"><span class=\"toc-item-num\">4.1&nbsp;&nbsp;</span>Cost</a></span></li><li><span><a href=\"#Benefit\" data-toc-modified-id=\"Benefit-4.2\"><span class=\"toc-item-num\">4.2&nbsp;&nbsp;</span>Benefit</a></span></li><li><span><a href=\"#Effectiveness-of-spraying-efforts-thus-far\" data-toc-modified-id=\"Effectiveness-of-spraying-efforts-thus-far-4.3\"><span class=\"toc-item-num\">4.3&nbsp;&nbsp;</span>Effectiveness of spraying efforts thus far</a></span></li><li><span><a href=\"#Conclusions\" data-toc-modified-id=\"Conclusions-4.4\"><span class=\"toc-item-num\">4.4&nbsp;&nbsp;</span>Conclusions</a></span></li></ul></li><li><span><a href=\"#Conclusion-and-Recommendations\" data-toc-modified-id=\"Conclusion-and-Recommendations-5\"><span class=\"toc-item-num\">5&nbsp;&nbsp;</span>Conclusion and Recommendations</a></span></li></ul></div>"
   ]
  },
  {
   "cell_type": "code",
   "execution_count": 1,
   "metadata": {},
   "outputs": [],
   "source": [
    "# importing essential libraries for data cleaning and EDA\n",
    "import numpy as np\n",
    "import pandas as pd\n",
    "\n",
    "# for handling date time\n",
    "import datetime as dt\n",
    "\n",
    "# stats and other libraries\n",
    "import scipy.stats as stats\n",
    "\n",
    "# plotting libraries\n",
    "import matplotlib.pyplot as plt\n",
    "from matplotlib.ticker import (MultipleLocator, FormatStrFormatter,\n",
    "                               AutoMinorLocator)\n",
    "\n",
    "import seaborn as sns\n",
    "%matplotlib inline\n",
    "sns.set(style=\"whitegrid\")\n",
    "\n",
    "# for handling geographic data\n",
    "\n",
    "# modeling libraries\n",
    "from sklearn.pipeline import Pipeline, FeatureUnion\n",
    "\n",
    "from sklearn.preprocessing import FunctionTransformer, StandardScaler, RobustScaler\n",
    "from sklearn.linear_model import LogisticRegression\n",
    "from sklearn.neighbors import KNeighborsClassifier\n",
    "from sklearn.tree import DecisionTreeClassifier\n",
    "from sklearn.naive_bayes import MultinomialNB\n",
    "from sklearn.ensemble import RandomForestClassifier, ExtraTreesClassifier, VotingClassifier\n",
    "from sklearn import svm\n",
    "\n",
    "from sklearn.model_selection import train_test_split, GridSearchCV, KFold, cross_val_score, cross_val_predict\n",
    "from sklearn.metrics import confusion_matrix, roc_auc_score\n",
    "\n",
    "\n",
    "import xgboost as xgb\n",
    "from xgboost import XGBClassifier\n",
    "\n",
    "from matplotlib_venn import venn2\n",
    "import seaborn as sns\n",
    "import scipy.stats as stats\n",
    "import string\n",
    "import warnings\n",
    "warnings.filterwarnings('ignore')\n",
    "\n",
    "import featuretools as ft\n",
    "import imblearn\n",
    "from imblearn.under_sampling import RandomUnderSampler\n",
    "from imblearn.over_sampling import SMOTE\n",
    "\n",
    "\n",
    "\n",
    "sns.set_style('ticks')\n",
    "pd.set_option('display.max_columns', None)\n",
    "\n",
    "%matplotlib inline\n"
   ]
  },
  {
   "cell_type": "markdown",
   "metadata": {},
   "source": [
    "## Preparing Data"
   ]
  },
  {
   "cell_type": "markdown",
   "metadata": {},
   "source": [
    "### Reading pickle"
   ]
  },
  {
   "cell_type": "code",
   "execution_count": 2,
   "metadata": {},
   "outputs": [],
   "source": [
    "df_processed = pd.read_pickle('./assets/processed.zip')\n",
    "df_dict = df_processed.to_dict()\n",
    "\n",
    "test = pd.read_csv('./assets/test.csv', parse_dates=['Date'])\n"
   ]
  },
  {
   "cell_type": "markdown",
   "metadata": {},
   "source": [
    "### Cleaning up data"
   ]
  },
  {
   "cell_type": "code",
   "execution_count": 3,
   "metadata": {},
   "outputs": [],
   "source": [
    "for i in df_dict.keys():\n",
    "    df_dict[i]['train'] = df_dict[i]['train'].drop(columns = 'Species_UNSPECIFIED CULEX')\n",
    "    df_dict[i]['test'] = df_dict[i]['test'].drop(columns = ['Species_UNSPECIFIED CULEX', 'WnvPresent'])"
   ]
  },
  {
   "cell_type": "code",
   "execution_count": 4,
   "metadata": {},
   "outputs": [],
   "source": [
    "X_train = {}\n",
    "X_test = {}\n",
    "y_train = {}\n",
    "y_test = {}\n",
    "X_all = {}\n",
    "y_all = {}\n",
    "test_all = {}"
   ]
  },
  {
   "cell_type": "code",
   "execution_count": 5,
   "metadata": {},
   "outputs": [],
   "source": [
    "# For loop to populate dictionaries of X and Y training and test sets,\n",
    "\n",
    "for i in df_dict.keys():\n",
    "    X_train[i], X_test[i], y_train[i], y_test[i] = \\\n",
    "    train_test_split(df_dict[i]['train'].drop(columns = 'WnvPresent'), df_dict[i]['train']['WnvPresent'], \\\n",
    "                     test_size = 0.25, stratify = df_dict[i]['train']['WnvPresent'], random_state = 42)\n",
    "    X_all[i] = df_dict[i]['train'].drop(columns = 'WnvPresent')\n",
    "    y_all[i] = df_dict[i]['train']['WnvPresent']\n",
    "    test_all[i] = df_dict[i]['test']\n",
    "\n"
   ]
  },
  {
   "cell_type": "markdown",
   "metadata": {},
   "source": [
    "## Dictionaries to call for modelling"
   ]
  },
  {
   "cell_type": "code",
   "execution_count": 62,
   "metadata": {},
   "outputs": [],
   "source": [
    "# Defining dictionary of pipeline transformers and classifiers\n",
    "\n",
    "pipe_dict = {'ss' : ('ss', StandardScaler()),\n",
    "             'lr' : ('lr', LogisticRegression()),\n",
    "             'knn' : ('knn', KNeighborsClassifier()),\n",
    "             'dt' : ('dt', DecisionTreeClassifier()),\n",
    "             'rf' : ('rf', RandomForestClassifier()),\n",
    "             'et' : ('et', ExtraTreesClassifier()),\n",
    "             'xgc' : ('xgc', xgb.XGBClassifier(scale_pos_weight = 19, seed = 42)),\n",
    "            }\n",
    "\n",
    "\n",
    "# Defining dictionary of parameters for pipeline transformers\n",
    "\n",
    "param_dict = {'lr_params' : {'lr__penalty' : ['l1', 'l2'],\n",
    "                             'lr__solver' : ['liblinear'],\n",
    "                             'lr__C' : np.logspace(-5, 0, 100),\n",
    "                             'lr__class_weight' : ['balanced']\n",
    "                            }, \\\n",
    "              'knn_params' : {'knn__n_neighbors' : [1, 3, 5, 7, 15],\n",
    "                              'knn__weights':['uniform','distance'],\n",
    "                              'knn__metric':['euclidean','manhattan']\n",
    "                             }, \\\n",
    "              'dt_params' : {'dt__max_depth': [2, 3, 5, 7, 10],\n",
    "                             'dt__min_samples_split': [5, 10, 15, 20],\n",
    "                             'dt__min_samples_leaf': [2, 3, 4, 5, 6, 7],\n",
    "                             'dt__class_weight' : ['balanced'],\n",
    "\n",
    "                            }, \\\n",
    "              'rf_params' : {'rf__n_estimators': [10, 20, 50, 100, 150, 200],\n",
    "                             'rf__max_depth': [5, 10, 15, 20, 25],\n",
    "                             'rf__min_samples_leaf': [2, 5, 10],\n",
    "                             'rf__class_weight' : ['balanced', 'balanced_subsample']\n",
    "                            }, \\\n",
    "              'et_params' : {'et__n_estimators': [10, 20, 50, 100, 150, 200],\n",
    "                             'et__max_depth': [2, 3, 4, 5, 10, 20],\n",
    "                             'et__min_samples_leaf': [2, 5, 10],\n",
    "                             'et__class_weight' : ['balanced', 'balanced_subsample'],\n",
    "                            }, \\\n",
    "#               'xgc_params' : {'dt__max_depth': [2, 3, 5, 7, 10],\n",
    "#                              'dt__min_samples_split': [5, 10, 15, 20],\n",
    "#                              'dt__min_samples_leaf': [2, 3, 4, 5, 6, 7]\n",
    "#                              }, \\\n",
    "#               'xgc_params' : {'xgc__eval_metric' : ['auc'],\n",
    "#                               'xgc__objective' : ['binary:logistic'],\n",
    "#                               'xgc__scale_pos_weight': [19],\n",
    "#                               'xgc__subsample' : [0.3, 0.5, 0.7],\n",
    "#                               'xgc__colsample_bytree' : [0.3, 0.5, 0.7],\n",
    "#                               'xgc__learning_rate' : [0.05, 0.10],\n",
    "#                               'xgc__max_depth' : [2, 3, 5],\n",
    "#                               'xgc__n_estimators' : [500, 1000, 1500],\n",
    "#                                   'xgc__reg_alpha' : [0, 1, 5],\n",
    "#                                   'xgc__reg_lambda' : [1, 2, 3, 4, 5],\n",
    "#                                   'xgc__gamma' : [0.01, 0.1, 0.25],\n",
    "#                                  }, \\\n",
    "\n",
    "             }\n",
    "\n",
    "param_no_tuning = {'lr_params' : {},\\\n",
    "                   'knn_params' : {},\\\n",
    "                   'dt_params' : {},\\\n",
    "                   'rf_params' : {},\\\n",
    "                   'et_params' : {},\\\n",
    "                   'xgc_params' : {},\\\n",
    "                   'lr_params' : {}\n",
    "                  }\n",
    "\n",
    "param_tuning_reg = {'lr_params' : {},\\\n",
    "                   'knn_params' : {},\\\n",
    "                   'dt_params' : {},\\\n",
    "                   'rf_params' : {},\\\n",
    "                   'et_params' : {},\\\n",
    "                   'xgc_params' : {},\\\n",
    "                   'lr_params' : {}\n",
    "                  }\n",
    "\n",
    "\n",
    "\n",
    "# Defining dictionary of more descriptive names for pipeline transformers and classifiers\n",
    "\n",
    "pipe_dict_names = {'ss' : 'Standard Scaler',\n",
    "                   'lr' : 'Logistic Regression',\n",
    "                   'knn' : 'K Nearest Neighbors',\n",
    "                   'dt' : 'Decision Tree',\n",
    "                   'et' : 'Extra Trees',\n",
    "                   'rf' : 'Random Forest',\n",
    "                   'xgc' : 'XGBoost',\n",
    "                  }\n"
   ]
  },
  {
   "cell_type": "code",
   "execution_count": 42,
   "metadata": {},
   "outputs": [],
   "source": [
    "# Defining function to run pipeline model for each set of X stored in X_dict above and populate model_dict with model \\\n",
    "# parameters and results\n",
    "\n",
    "def model_making(X_dict, scaler, classifier, model_dict, param_dict):\n",
    "    for i in df_dict.keys():\n",
    "        # Defining model_name to be used as key for model_dict\n",
    "        model_name = '_'.join([classifier, str(i)])\n",
    "        \n",
    "        # Initialising empty dictionary (within the model_dict dictionary) to store instanced model parameters and results\n",
    "        model_dict[model_name] = {}\n",
    "        \n",
    "        if scaler == None:\n",
    "            model_dict[model_name]['name'] = ' '.join([pipe_dict_names[classifier], df_dict[i]['name']])\n",
    "            model_dict[model_name]['pipe'] = Pipeline([pipe_dict[classifier]])\n",
    "        else:\n",
    "            model_dict[model_name]['name'] = ' '.join([pipe_dict_names[classifier], df_dict[i]['name'], pipe_dict_names[scaler]])\n",
    "            model_dict[model_name]['pipe'] = Pipeline([pipe_dict[scaler], pipe_dict[classifier]])            \n",
    "        \n",
    "        \n",
    "        model_dict[model_name]['params'] = param_dict[classifier + '_params'].copy()\n",
    "\n",
    "        \n",
    "        # Defining vectoriser parameter grid for model instance\n",
    "\n",
    "        # Defining model for GridSearchCV using above pipeline and parameters\n",
    "        model_dict[model_name]['model'] = GridSearchCV(model_dict[model_name]['pipe'], \\\n",
    "                                                       param_grid = model_dict[model_name]['params'],\n",
    "                                                       cv = 3,\n",
    "                                                       verbose = 1,\n",
    "                                                       scoring = 'roc_auc',\n",
    "                                                       n_jobs = 8)\n",
    "\n",
    "        # Fitting model for GridSearchCV\n",
    "        model_dict[model_name]['model'].fit(X_train[i], y_train[i])\n",
    "        \n",
    "        # Storing cross-validation scores and best parameters for model instance\n",
    "        model_dict[model_name]['train_score'] = model_dict[model_name]['model'].best_score_ \n",
    "        model_dict[model_name]['best_params'] = model_dict[model_name]['model'].best_params_\n",
    "        model_dict[model_name]['test_score'] = roc_auc_score(y_test[i], [prob[1] for prob in model_dict[model_name]['model'].best_estimator_.predict_proba(X_test[i])])\n",
    "        model_dict[model_name]['confusion_matrix'] = pd.DataFrame(confusion_matrix(y_test[i],\\\n",
    "                                                                                   model_dict[model_name]['model'].\n",
    "                                                                                   best_estimator_.predict(X_test[i])), \\\n",
    "                                                                  index = ['Actual WNV absent','Actual WNV present'],\n",
    "                                                                  columns = ['predicted WNV absent', 'predicted WNV present'])\n",
    "        # Storing predict_probability from best scoring model instance\n",
    "        model_dict[model_name]['best_model'] = model_dict[model_name]['model'].best_estimator_.fit(X_all[i], y_all[i])\n",
    "        model_dict[model_name]['train_pred_proba'] = [i[1] for i in model_dict[model_name]['best_model'].predict_proba(X_all[i])]\n",
    "        model_dict[model_name]['train_pred_df'] = pd.DataFrame({'True_Values' : y_all[i],\n",
    "                                                                'Pred_Probs' : model_dict[model_name]['train_pred_proba']})\n",
    "\n",
    "        model_dict[model_name]['test_pred_proba'] = [i[1] for i in model_dict[model_name]['best_model'].predict_proba(test_all[i])]\n",
    "\n",
    "\n",
    "            \n",
    "        # Printing scores and best parameters for model instance\n",
    "        print(model_dict[model_name]['name'], '\\n')\n",
    "        print(f'Score on Train Set:', model_dict[model_name]['train_score'])\n",
    "        print(f'Best Parameters:', model_dict[model_name]['best_params'])\n",
    "        print(f'Score on Test Set:', model_dict[model_name]['test_score'])\n",
    "        print(model_dict[model_name]['confusion_matrix'], f'\\n\\n')\n",
    "        "
   ]
  },
  {
   "cell_type": "code",
   "execution_count": 8,
   "metadata": {},
   "outputs": [],
   "source": [
    "model_no_tuning = {}"
   ]
  },
  {
   "cell_type": "code",
   "execution_count": 9,
   "metadata": {
    "scrolled": true
   },
   "outputs": [
    {
     "name": "stdout",
     "output_type": "stream",
     "text": [
      "Fitting 3 folds for each of 1 candidates, totalling 3 fits\n"
     ]
    },
    {
     "name": "stderr",
     "output_type": "stream",
     "text": [
      "[Parallel(n_jobs=1)]: Using backend SequentialBackend with 1 concurrent workers.\n",
      "[Parallel(n_jobs=1)]: Done   3 out of   3 | elapsed:    1.0s finished\n"
     ]
    },
    {
     "name": "stdout",
     "output_type": "stream",
     "text": [
      "Logistic Regression Rolling 10 days Standard Scaler \n",
      "\n",
      "Score on Train Set: 0.7787730769397748\n",
      "Best Parameters: {}\n",
      "Score on Test Set: 0.776672431160876\n",
      "                    predicted WNV absent  predicted WNV present\n",
      "Actual WNV absent                   2489                      0\n",
      "Actual WNV present                   138                      0 \n",
      "\n",
      "\n",
      "Fitting 3 folds for each of 1 candidates, totalling 3 fits\n"
     ]
    },
    {
     "name": "stderr",
     "output_type": "stream",
     "text": [
      "[Parallel(n_jobs=1)]: Using backend SequentialBackend with 1 concurrent workers.\n",
      "[Parallel(n_jobs=1)]: Done   3 out of   3 | elapsed:    0.9s finished\n"
     ]
    },
    {
     "name": "stdout",
     "output_type": "stream",
     "text": [
      "Logistic Regression Rolling 14 days Standard Scaler \n",
      "\n",
      "Score on Train Set: 0.7763094380290411\n",
      "Best Parameters: {}\n",
      "Score on Test Set: 0.7765501540109817\n",
      "                    predicted WNV absent  predicted WNV present\n",
      "Actual WNV absent                   2489                      0\n",
      "Actual WNV present                   138                      0 \n",
      "\n",
      "\n",
      "Fitting 3 folds for each of 1 candidates, totalling 3 fits\n"
     ]
    },
    {
     "name": "stderr",
     "output_type": "stream",
     "text": [
      "[Parallel(n_jobs=1)]: Using backend SequentialBackend with 1 concurrent workers.\n",
      "[Parallel(n_jobs=1)]: Done   3 out of   3 | elapsed:    1.0s finished\n"
     ]
    },
    {
     "name": "stdout",
     "output_type": "stream",
     "text": [
      "Logistic Regression Rolling 18 days Standard Scaler \n",
      "\n",
      "Score on Train Set: 0.7822119253993277\n",
      "Best Parameters: {}\n",
      "Score on Test Set: 0.7831036269731748\n",
      "                    predicted WNV absent  predicted WNV present\n",
      "Actual WNV absent                   2489                      0\n",
      "Actual WNV present                   138                      0 \n",
      "\n",
      "\n"
     ]
    }
   ],
   "source": [
    "model_making(df_dict, 'ss', 'lr', model_no_tuning, param_no_tuning)\n"
   ]
  },
  {
   "cell_type": "code",
   "execution_count": 10,
   "metadata": {},
   "outputs": [
    {
     "name": "stdout",
     "output_type": "stream",
     "text": [
      "Fitting 3 folds for each of 1 candidates, totalling 3 fits\n"
     ]
    },
    {
     "name": "stderr",
     "output_type": "stream",
     "text": [
      "[Parallel(n_jobs=1)]: Using backend SequentialBackend with 1 concurrent workers.\n",
      "[Parallel(n_jobs=1)]: Done   3 out of   3 | elapsed:    4.2s finished\n"
     ]
    },
    {
     "name": "stdout",
     "output_type": "stream",
     "text": [
      "K Nearest Neighbors Rolling 10 days Standard Scaler \n",
      "\n",
      "Score on Train Set: 0.6539481702213693\n",
      "Best Parameters: {}\n",
      "Score on Test Set: 0.6910449455866682\n",
      "                    predicted WNV absent  predicted WNV present\n",
      "Actual WNV absent                   2469                     20\n",
      "Actual WNV present                   131                      7 \n",
      "\n",
      "\n",
      "Fitting 3 folds for each of 1 candidates, totalling 3 fits\n"
     ]
    },
    {
     "name": "stderr",
     "output_type": "stream",
     "text": [
      "[Parallel(n_jobs=1)]: Using backend SequentialBackend with 1 concurrent workers.\n",
      "[Parallel(n_jobs=1)]: Done   3 out of   3 | elapsed:    4.2s finished\n"
     ]
    },
    {
     "ename": "KeyboardInterrupt",
     "evalue": "",
     "output_type": "error",
     "traceback": [
      "\u001b[1;31m---------------------------------------------------------------------------\u001b[0m",
      "\u001b[1;31mKeyboardInterrupt\u001b[0m                         Traceback (most recent call last)",
      "\u001b[1;32m<ipython-input-10-847e429042b1>\u001b[0m in \u001b[0;36m<module>\u001b[1;34m\u001b[0m\n\u001b[1;32m----> 1\u001b[1;33m \u001b[0mmodel_making\u001b[0m\u001b[1;33m(\u001b[0m\u001b[0mdf_dict\u001b[0m\u001b[1;33m,\u001b[0m \u001b[1;34m'ss'\u001b[0m\u001b[1;33m,\u001b[0m \u001b[1;34m'knn'\u001b[0m\u001b[1;33m,\u001b[0m \u001b[0mmodel_no_tuning\u001b[0m\u001b[1;33m,\u001b[0m \u001b[0mparam_no_tuning\u001b[0m\u001b[1;33m)\u001b[0m\u001b[1;33m\u001b[0m\u001b[1;33m\u001b[0m\u001b[0m\n\u001b[0m",
      "\u001b[1;32m<ipython-input-7-1f727842a460>\u001b[0m in \u001b[0;36mmodel_making\u001b[1;34m(X_dict, scaler, classifier, model_dict, param_dict)\u001b[0m\n\u001b[0;32m     48\u001b[0m                                                                 'Pred_Probs' : model_dict[model_name]['train_pred_proba']})\n\u001b[0;32m     49\u001b[0m \u001b[1;33m\u001b[0m\u001b[0m\n\u001b[1;32m---> 50\u001b[1;33m         \u001b[0mmodel_dict\u001b[0m\u001b[1;33m[\u001b[0m\u001b[0mmodel_name\u001b[0m\u001b[1;33m]\u001b[0m\u001b[1;33m[\u001b[0m\u001b[1;34m'test_pred_proba'\u001b[0m\u001b[1;33m]\u001b[0m \u001b[1;33m=\u001b[0m \u001b[1;33m[\u001b[0m\u001b[0mi\u001b[0m\u001b[1;33m[\u001b[0m\u001b[1;36m1\u001b[0m\u001b[1;33m]\u001b[0m \u001b[1;32mfor\u001b[0m \u001b[0mi\u001b[0m \u001b[1;32min\u001b[0m \u001b[0mmodel_dict\u001b[0m\u001b[1;33m[\u001b[0m\u001b[0mmodel_name\u001b[0m\u001b[1;33m]\u001b[0m\u001b[1;33m[\u001b[0m\u001b[1;34m'best_model'\u001b[0m\u001b[1;33m]\u001b[0m\u001b[1;33m.\u001b[0m\u001b[0mpredict_proba\u001b[0m\u001b[1;33m(\u001b[0m\u001b[0mtest_all\u001b[0m\u001b[1;33m[\u001b[0m\u001b[0mi\u001b[0m\u001b[1;33m]\u001b[0m\u001b[1;33m)\u001b[0m\u001b[1;33m]\u001b[0m\u001b[1;33m\u001b[0m\u001b[1;33m\u001b[0m\u001b[0m\n\u001b[0m\u001b[0;32m     51\u001b[0m \u001b[1;33m\u001b[0m\u001b[0m\n\u001b[0;32m     52\u001b[0m \u001b[1;33m\u001b[0m\u001b[0m\n",
      "\u001b[1;32m~\\Anaconda3\\lib\\site-packages\\sklearn\\utils\\metaestimators.py\u001b[0m in \u001b[0;36m<lambda>\u001b[1;34m(*args, **kwargs)\u001b[0m\n\u001b[0;32m    114\u001b[0m \u001b[1;33m\u001b[0m\u001b[0m\n\u001b[0;32m    115\u001b[0m         \u001b[1;31m# lambda, but not partial, allows help() to work with update_wrapper\u001b[0m\u001b[1;33m\u001b[0m\u001b[1;33m\u001b[0m\u001b[1;33m\u001b[0m\u001b[0m\n\u001b[1;32m--> 116\u001b[1;33m         \u001b[0mout\u001b[0m \u001b[1;33m=\u001b[0m \u001b[1;32mlambda\u001b[0m \u001b[1;33m*\u001b[0m\u001b[0margs\u001b[0m\u001b[1;33m,\u001b[0m \u001b[1;33m**\u001b[0m\u001b[0mkwargs\u001b[0m\u001b[1;33m:\u001b[0m \u001b[0mself\u001b[0m\u001b[1;33m.\u001b[0m\u001b[0mfn\u001b[0m\u001b[1;33m(\u001b[0m\u001b[0mobj\u001b[0m\u001b[1;33m,\u001b[0m \u001b[1;33m*\u001b[0m\u001b[0margs\u001b[0m\u001b[1;33m,\u001b[0m \u001b[1;33m**\u001b[0m\u001b[0mkwargs\u001b[0m\u001b[1;33m)\u001b[0m\u001b[1;33m\u001b[0m\u001b[1;33m\u001b[0m\u001b[0m\n\u001b[0m\u001b[0;32m    117\u001b[0m         \u001b[1;31m# update the docstring of the returned function\u001b[0m\u001b[1;33m\u001b[0m\u001b[1;33m\u001b[0m\u001b[1;33m\u001b[0m\u001b[0m\n\u001b[0;32m    118\u001b[0m         \u001b[0mupdate_wrapper\u001b[0m\u001b[1;33m(\u001b[0m\u001b[0mout\u001b[0m\u001b[1;33m,\u001b[0m \u001b[0mself\u001b[0m\u001b[1;33m.\u001b[0m\u001b[0mfn\u001b[0m\u001b[1;33m)\u001b[0m\u001b[1;33m\u001b[0m\u001b[1;33m\u001b[0m\u001b[0m\n",
      "\u001b[1;32m~\\Anaconda3\\lib\\site-packages\\sklearn\\pipeline.py\u001b[0m in \u001b[0;36mpredict_proba\u001b[1;34m(self, X)\u001b[0m\n\u001b[0;32m    472\u001b[0m         \u001b[1;32mfor\u001b[0m \u001b[0m_\u001b[0m\u001b[1;33m,\u001b[0m \u001b[0mname\u001b[0m\u001b[1;33m,\u001b[0m \u001b[0mtransform\u001b[0m \u001b[1;32min\u001b[0m \u001b[0mself\u001b[0m\u001b[1;33m.\u001b[0m\u001b[0m_iter\u001b[0m\u001b[1;33m(\u001b[0m\u001b[0mwith_final\u001b[0m\u001b[1;33m=\u001b[0m\u001b[1;32mFalse\u001b[0m\u001b[1;33m)\u001b[0m\u001b[1;33m:\u001b[0m\u001b[1;33m\u001b[0m\u001b[1;33m\u001b[0m\u001b[0m\n\u001b[0;32m    473\u001b[0m             \u001b[0mXt\u001b[0m \u001b[1;33m=\u001b[0m \u001b[0mtransform\u001b[0m\u001b[1;33m.\u001b[0m\u001b[0mtransform\u001b[0m\u001b[1;33m(\u001b[0m\u001b[0mXt\u001b[0m\u001b[1;33m)\u001b[0m\u001b[1;33m\u001b[0m\u001b[1;33m\u001b[0m\u001b[0m\n\u001b[1;32m--> 474\u001b[1;33m         \u001b[1;32mreturn\u001b[0m \u001b[0mself\u001b[0m\u001b[1;33m.\u001b[0m\u001b[0msteps\u001b[0m\u001b[1;33m[\u001b[0m\u001b[1;33m-\u001b[0m\u001b[1;36m1\u001b[0m\u001b[1;33m]\u001b[0m\u001b[1;33m[\u001b[0m\u001b[1;33m-\u001b[0m\u001b[1;36m1\u001b[0m\u001b[1;33m]\u001b[0m\u001b[1;33m.\u001b[0m\u001b[0mpredict_proba\u001b[0m\u001b[1;33m(\u001b[0m\u001b[0mXt\u001b[0m\u001b[1;33m)\u001b[0m\u001b[1;33m\u001b[0m\u001b[1;33m\u001b[0m\u001b[0m\n\u001b[0m\u001b[0;32m    475\u001b[0m \u001b[1;33m\u001b[0m\u001b[0m\n\u001b[0;32m    476\u001b[0m     \u001b[1;33m@\u001b[0m\u001b[0mif_delegate_has_method\u001b[0m\u001b[1;33m(\u001b[0m\u001b[0mdelegate\u001b[0m\u001b[1;33m=\u001b[0m\u001b[1;34m'_final_estimator'\u001b[0m\u001b[1;33m)\u001b[0m\u001b[1;33m\u001b[0m\u001b[1;33m\u001b[0m\u001b[0m\n",
      "\u001b[1;32m~\\Anaconda3\\lib\\site-packages\\sklearn\\neighbors\\classification.py\u001b[0m in \u001b[0;36mpredict_proba\u001b[1;34m(self, X)\u001b[0m\n\u001b[0;32m    191\u001b[0m         \u001b[0mX\u001b[0m \u001b[1;33m=\u001b[0m \u001b[0mcheck_array\u001b[0m\u001b[1;33m(\u001b[0m\u001b[0mX\u001b[0m\u001b[1;33m,\u001b[0m \u001b[0maccept_sparse\u001b[0m\u001b[1;33m=\u001b[0m\u001b[1;34m'csr'\u001b[0m\u001b[1;33m)\u001b[0m\u001b[1;33m\u001b[0m\u001b[1;33m\u001b[0m\u001b[0m\n\u001b[0;32m    192\u001b[0m \u001b[1;33m\u001b[0m\u001b[0m\n\u001b[1;32m--> 193\u001b[1;33m         \u001b[0mneigh_dist\u001b[0m\u001b[1;33m,\u001b[0m \u001b[0mneigh_ind\u001b[0m \u001b[1;33m=\u001b[0m \u001b[0mself\u001b[0m\u001b[1;33m.\u001b[0m\u001b[0mkneighbors\u001b[0m\u001b[1;33m(\u001b[0m\u001b[0mX\u001b[0m\u001b[1;33m)\u001b[0m\u001b[1;33m\u001b[0m\u001b[1;33m\u001b[0m\u001b[0m\n\u001b[0m\u001b[0;32m    194\u001b[0m \u001b[1;33m\u001b[0m\u001b[0m\n\u001b[0;32m    195\u001b[0m         \u001b[0mclasses_\u001b[0m \u001b[1;33m=\u001b[0m \u001b[0mself\u001b[0m\u001b[1;33m.\u001b[0m\u001b[0mclasses_\u001b[0m\u001b[1;33m\u001b[0m\u001b[1;33m\u001b[0m\u001b[0m\n",
      "\u001b[1;32m~\\Anaconda3\\lib\\site-packages\\sklearn\\neighbors\\base.py\u001b[0m in \u001b[0;36mkneighbors\u001b[1;34m(self, X, n_neighbors, return_distance)\u001b[0m\n\u001b[0;32m    452\u001b[0m                 delayed_query(\n\u001b[0;32m    453\u001b[0m                     self._tree, X[s], n_neighbors, return_distance)\n\u001b[1;32m--> 454\u001b[1;33m                 \u001b[1;32mfor\u001b[0m \u001b[0ms\u001b[0m \u001b[1;32min\u001b[0m \u001b[0mgen_even_slices\u001b[0m\u001b[1;33m(\u001b[0m\u001b[0mX\u001b[0m\u001b[1;33m.\u001b[0m\u001b[0mshape\u001b[0m\u001b[1;33m[\u001b[0m\u001b[1;36m0\u001b[0m\u001b[1;33m]\u001b[0m\u001b[1;33m,\u001b[0m \u001b[0mn_jobs\u001b[0m\u001b[1;33m)\u001b[0m\u001b[1;33m\u001b[0m\u001b[1;33m\u001b[0m\u001b[0m\n\u001b[0m\u001b[0;32m    455\u001b[0m             )\n\u001b[0;32m    456\u001b[0m         \u001b[1;32melse\u001b[0m\u001b[1;33m:\u001b[0m\u001b[1;33m\u001b[0m\u001b[1;33m\u001b[0m\u001b[0m\n",
      "\u001b[1;32m~\\Anaconda3\\lib\\site-packages\\joblib\\parallel.py\u001b[0m in \u001b[0;36m__call__\u001b[1;34m(self, iterable)\u001b[0m\n\u001b[0;32m    919\u001b[0m             \u001b[1;31m# remaining jobs.\u001b[0m\u001b[1;33m\u001b[0m\u001b[1;33m\u001b[0m\u001b[1;33m\u001b[0m\u001b[0m\n\u001b[0;32m    920\u001b[0m             \u001b[0mself\u001b[0m\u001b[1;33m.\u001b[0m\u001b[0m_iterating\u001b[0m \u001b[1;33m=\u001b[0m \u001b[1;32mFalse\u001b[0m\u001b[1;33m\u001b[0m\u001b[1;33m\u001b[0m\u001b[0m\n\u001b[1;32m--> 921\u001b[1;33m             \u001b[1;32mif\u001b[0m \u001b[0mself\u001b[0m\u001b[1;33m.\u001b[0m\u001b[0mdispatch_one_batch\u001b[0m\u001b[1;33m(\u001b[0m\u001b[0miterator\u001b[0m\u001b[1;33m)\u001b[0m\u001b[1;33m:\u001b[0m\u001b[1;33m\u001b[0m\u001b[1;33m\u001b[0m\u001b[0m\n\u001b[0m\u001b[0;32m    922\u001b[0m                 \u001b[0mself\u001b[0m\u001b[1;33m.\u001b[0m\u001b[0m_iterating\u001b[0m \u001b[1;33m=\u001b[0m \u001b[0mself\u001b[0m\u001b[1;33m.\u001b[0m\u001b[0m_original_iterator\u001b[0m \u001b[1;32mis\u001b[0m \u001b[1;32mnot\u001b[0m \u001b[1;32mNone\u001b[0m\u001b[1;33m\u001b[0m\u001b[1;33m\u001b[0m\u001b[0m\n\u001b[0;32m    923\u001b[0m \u001b[1;33m\u001b[0m\u001b[0m\n",
      "\u001b[1;32m~\\Anaconda3\\lib\\site-packages\\joblib\\parallel.py\u001b[0m in \u001b[0;36mdispatch_one_batch\u001b[1;34m(self, iterator)\u001b[0m\n\u001b[0;32m    757\u001b[0m                 \u001b[1;32mreturn\u001b[0m \u001b[1;32mFalse\u001b[0m\u001b[1;33m\u001b[0m\u001b[1;33m\u001b[0m\u001b[0m\n\u001b[0;32m    758\u001b[0m             \u001b[1;32melse\u001b[0m\u001b[1;33m:\u001b[0m\u001b[1;33m\u001b[0m\u001b[1;33m\u001b[0m\u001b[0m\n\u001b[1;32m--> 759\u001b[1;33m                 \u001b[0mself\u001b[0m\u001b[1;33m.\u001b[0m\u001b[0m_dispatch\u001b[0m\u001b[1;33m(\u001b[0m\u001b[0mtasks\u001b[0m\u001b[1;33m)\u001b[0m\u001b[1;33m\u001b[0m\u001b[1;33m\u001b[0m\u001b[0m\n\u001b[0m\u001b[0;32m    760\u001b[0m                 \u001b[1;32mreturn\u001b[0m \u001b[1;32mTrue\u001b[0m\u001b[1;33m\u001b[0m\u001b[1;33m\u001b[0m\u001b[0m\n\u001b[0;32m    761\u001b[0m \u001b[1;33m\u001b[0m\u001b[0m\n",
      "\u001b[1;32m~\\Anaconda3\\lib\\site-packages\\joblib\\parallel.py\u001b[0m in \u001b[0;36m_dispatch\u001b[1;34m(self, batch)\u001b[0m\n\u001b[0;32m    714\u001b[0m         \u001b[1;32mwith\u001b[0m \u001b[0mself\u001b[0m\u001b[1;33m.\u001b[0m\u001b[0m_lock\u001b[0m\u001b[1;33m:\u001b[0m\u001b[1;33m\u001b[0m\u001b[1;33m\u001b[0m\u001b[0m\n\u001b[0;32m    715\u001b[0m             \u001b[0mjob_idx\u001b[0m \u001b[1;33m=\u001b[0m \u001b[0mlen\u001b[0m\u001b[1;33m(\u001b[0m\u001b[0mself\u001b[0m\u001b[1;33m.\u001b[0m\u001b[0m_jobs\u001b[0m\u001b[1;33m)\u001b[0m\u001b[1;33m\u001b[0m\u001b[1;33m\u001b[0m\u001b[0m\n\u001b[1;32m--> 716\u001b[1;33m             \u001b[0mjob\u001b[0m \u001b[1;33m=\u001b[0m \u001b[0mself\u001b[0m\u001b[1;33m.\u001b[0m\u001b[0m_backend\u001b[0m\u001b[1;33m.\u001b[0m\u001b[0mapply_async\u001b[0m\u001b[1;33m(\u001b[0m\u001b[0mbatch\u001b[0m\u001b[1;33m,\u001b[0m \u001b[0mcallback\u001b[0m\u001b[1;33m=\u001b[0m\u001b[0mcb\u001b[0m\u001b[1;33m)\u001b[0m\u001b[1;33m\u001b[0m\u001b[1;33m\u001b[0m\u001b[0m\n\u001b[0m\u001b[0;32m    717\u001b[0m             \u001b[1;31m# A job can complete so quickly than its callback is\u001b[0m\u001b[1;33m\u001b[0m\u001b[1;33m\u001b[0m\u001b[1;33m\u001b[0m\u001b[0m\n\u001b[0;32m    718\u001b[0m             \u001b[1;31m# called before we get here, causing self._jobs to\u001b[0m\u001b[1;33m\u001b[0m\u001b[1;33m\u001b[0m\u001b[1;33m\u001b[0m\u001b[0m\n",
      "\u001b[1;32m~\\Anaconda3\\lib\\site-packages\\joblib\\_parallel_backends.py\u001b[0m in \u001b[0;36mapply_async\u001b[1;34m(self, func, callback)\u001b[0m\n\u001b[0;32m    180\u001b[0m     \u001b[1;32mdef\u001b[0m \u001b[0mapply_async\u001b[0m\u001b[1;33m(\u001b[0m\u001b[0mself\u001b[0m\u001b[1;33m,\u001b[0m \u001b[0mfunc\u001b[0m\u001b[1;33m,\u001b[0m \u001b[0mcallback\u001b[0m\u001b[1;33m=\u001b[0m\u001b[1;32mNone\u001b[0m\u001b[1;33m)\u001b[0m\u001b[1;33m:\u001b[0m\u001b[1;33m\u001b[0m\u001b[1;33m\u001b[0m\u001b[0m\n\u001b[0;32m    181\u001b[0m         \u001b[1;34m\"\"\"Schedule a func to be run\"\"\"\u001b[0m\u001b[1;33m\u001b[0m\u001b[1;33m\u001b[0m\u001b[0m\n\u001b[1;32m--> 182\u001b[1;33m         \u001b[0mresult\u001b[0m \u001b[1;33m=\u001b[0m \u001b[0mImmediateResult\u001b[0m\u001b[1;33m(\u001b[0m\u001b[0mfunc\u001b[0m\u001b[1;33m)\u001b[0m\u001b[1;33m\u001b[0m\u001b[1;33m\u001b[0m\u001b[0m\n\u001b[0m\u001b[0;32m    183\u001b[0m         \u001b[1;32mif\u001b[0m \u001b[0mcallback\u001b[0m\u001b[1;33m:\u001b[0m\u001b[1;33m\u001b[0m\u001b[1;33m\u001b[0m\u001b[0m\n\u001b[0;32m    184\u001b[0m             \u001b[0mcallback\u001b[0m\u001b[1;33m(\u001b[0m\u001b[0mresult\u001b[0m\u001b[1;33m)\u001b[0m\u001b[1;33m\u001b[0m\u001b[1;33m\u001b[0m\u001b[0m\n",
      "\u001b[1;32m~\\Anaconda3\\lib\\site-packages\\joblib\\_parallel_backends.py\u001b[0m in \u001b[0;36m__init__\u001b[1;34m(self, batch)\u001b[0m\n\u001b[0;32m    547\u001b[0m         \u001b[1;31m# Don't delay the application, to avoid keeping the input\u001b[0m\u001b[1;33m\u001b[0m\u001b[1;33m\u001b[0m\u001b[1;33m\u001b[0m\u001b[0m\n\u001b[0;32m    548\u001b[0m         \u001b[1;31m# arguments in memory\u001b[0m\u001b[1;33m\u001b[0m\u001b[1;33m\u001b[0m\u001b[1;33m\u001b[0m\u001b[0m\n\u001b[1;32m--> 549\u001b[1;33m         \u001b[0mself\u001b[0m\u001b[1;33m.\u001b[0m\u001b[0mresults\u001b[0m \u001b[1;33m=\u001b[0m \u001b[0mbatch\u001b[0m\u001b[1;33m(\u001b[0m\u001b[1;33m)\u001b[0m\u001b[1;33m\u001b[0m\u001b[1;33m\u001b[0m\u001b[0m\n\u001b[0m\u001b[0;32m    550\u001b[0m \u001b[1;33m\u001b[0m\u001b[0m\n\u001b[0;32m    551\u001b[0m     \u001b[1;32mdef\u001b[0m \u001b[0mget\u001b[0m\u001b[1;33m(\u001b[0m\u001b[0mself\u001b[0m\u001b[1;33m)\u001b[0m\u001b[1;33m:\u001b[0m\u001b[1;33m\u001b[0m\u001b[1;33m\u001b[0m\u001b[0m\n",
      "\u001b[1;32m~\\Anaconda3\\lib\\site-packages\\joblib\\parallel.py\u001b[0m in \u001b[0;36m__call__\u001b[1;34m(self)\u001b[0m\n\u001b[0;32m    223\u001b[0m         \u001b[1;32mwith\u001b[0m \u001b[0mparallel_backend\u001b[0m\u001b[1;33m(\u001b[0m\u001b[0mself\u001b[0m\u001b[1;33m.\u001b[0m\u001b[0m_backend\u001b[0m\u001b[1;33m,\u001b[0m \u001b[0mn_jobs\u001b[0m\u001b[1;33m=\u001b[0m\u001b[0mself\u001b[0m\u001b[1;33m.\u001b[0m\u001b[0m_n_jobs\u001b[0m\u001b[1;33m)\u001b[0m\u001b[1;33m:\u001b[0m\u001b[1;33m\u001b[0m\u001b[1;33m\u001b[0m\u001b[0m\n\u001b[0;32m    224\u001b[0m             return [func(*args, **kwargs)\n\u001b[1;32m--> 225\u001b[1;33m                     for func, args, kwargs in self.items]\n\u001b[0m\u001b[0;32m    226\u001b[0m \u001b[1;33m\u001b[0m\u001b[0m\n\u001b[0;32m    227\u001b[0m     \u001b[1;32mdef\u001b[0m \u001b[0m__len__\u001b[0m\u001b[1;33m(\u001b[0m\u001b[0mself\u001b[0m\u001b[1;33m)\u001b[0m\u001b[1;33m:\u001b[0m\u001b[1;33m\u001b[0m\u001b[1;33m\u001b[0m\u001b[0m\n",
      "\u001b[1;32m~\\Anaconda3\\lib\\site-packages\\joblib\\parallel.py\u001b[0m in \u001b[0;36m<listcomp>\u001b[1;34m(.0)\u001b[0m\n\u001b[0;32m    223\u001b[0m         \u001b[1;32mwith\u001b[0m \u001b[0mparallel_backend\u001b[0m\u001b[1;33m(\u001b[0m\u001b[0mself\u001b[0m\u001b[1;33m.\u001b[0m\u001b[0m_backend\u001b[0m\u001b[1;33m,\u001b[0m \u001b[0mn_jobs\u001b[0m\u001b[1;33m=\u001b[0m\u001b[0mself\u001b[0m\u001b[1;33m.\u001b[0m\u001b[0m_n_jobs\u001b[0m\u001b[1;33m)\u001b[0m\u001b[1;33m:\u001b[0m\u001b[1;33m\u001b[0m\u001b[1;33m\u001b[0m\u001b[0m\n\u001b[0;32m    224\u001b[0m             return [func(*args, **kwargs)\n\u001b[1;32m--> 225\u001b[1;33m                     for func, args, kwargs in self.items]\n\u001b[0m\u001b[0;32m    226\u001b[0m \u001b[1;33m\u001b[0m\u001b[0m\n\u001b[0;32m    227\u001b[0m     \u001b[1;32mdef\u001b[0m \u001b[0m__len__\u001b[0m\u001b[1;33m(\u001b[0m\u001b[0mself\u001b[0m\u001b[1;33m)\u001b[0m\u001b[1;33m:\u001b[0m\u001b[1;33m\u001b[0m\u001b[1;33m\u001b[0m\u001b[0m\n",
      "\u001b[1;32m~\\Anaconda3\\lib\\site-packages\\sklearn\\neighbors\\base.py\u001b[0m in \u001b[0;36m_tree_query_parallel_helper\u001b[1;34m(tree, data, n_neighbors, return_distance)\u001b[0m\n\u001b[0;32m    289\u001b[0m     \u001b[0munder\u001b[0m \u001b[0mPyPy\u001b[0m\u001b[1;33m.\u001b[0m\u001b[1;33m\u001b[0m\u001b[1;33m\u001b[0m\u001b[0m\n\u001b[0;32m    290\u001b[0m     \"\"\"\n\u001b[1;32m--> 291\u001b[1;33m     \u001b[1;32mreturn\u001b[0m \u001b[0mtree\u001b[0m\u001b[1;33m.\u001b[0m\u001b[0mquery\u001b[0m\u001b[1;33m(\u001b[0m\u001b[0mdata\u001b[0m\u001b[1;33m,\u001b[0m \u001b[0mn_neighbors\u001b[0m\u001b[1;33m,\u001b[0m \u001b[0mreturn_distance\u001b[0m\u001b[1;33m)\u001b[0m\u001b[1;33m\u001b[0m\u001b[1;33m\u001b[0m\u001b[0m\n\u001b[0m\u001b[0;32m    292\u001b[0m \u001b[1;33m\u001b[0m\u001b[0m\n\u001b[0;32m    293\u001b[0m \u001b[1;33m\u001b[0m\u001b[0m\n",
      "\u001b[1;31mKeyboardInterrupt\u001b[0m: "
     ]
    }
   ],
   "source": [
    "model_making(df_dict, 'ss', 'knn', model_no_tuning, param_no_tuning)\n"
   ]
  },
  {
   "cell_type": "code",
   "execution_count": 13,
   "metadata": {
    "scrolled": true
   },
   "outputs": [
    {
     "name": "stdout",
     "output_type": "stream",
     "text": [
      "Fitting 3 folds for each of 1 candidates, totalling 3 fits\n"
     ]
    },
    {
     "name": "stderr",
     "output_type": "stream",
     "text": [
      "[Parallel(n_jobs=1)]: Using backend SequentialBackend with 1 concurrent workers.\n",
      "[Parallel(n_jobs=1)]: Done   3 out of   3 | elapsed:    0.0s finished\n"
     ]
    },
    {
     "name": "stdout",
     "output_type": "stream",
     "text": [
      "Decision Tree Rolling 10 days \n",
      "\n",
      "Score on Train Set: 0.6086546035539488\n",
      "Best Parameters: {}\n",
      "Score on Test Set: 0.5978129858333188\n",
      "                    predicted WNV absent  predicted WNV present\n",
      "Actual WNV absent                   2400                     89\n",
      "Actual WNV present                   121                     17 \n",
      "\n",
      "\n",
      "Fitting 3 folds for each of 1 candidates, totalling 3 fits\n"
     ]
    },
    {
     "name": "stderr",
     "output_type": "stream",
     "text": [
      "[Parallel(n_jobs=1)]: Using backend SequentialBackend with 1 concurrent workers.\n",
      "[Parallel(n_jobs=1)]: Done   3 out of   3 | elapsed:    0.1s finished\n"
     ]
    },
    {
     "name": "stdout",
     "output_type": "stream",
     "text": [
      "Decision Tree Rolling 14 days \n",
      "\n",
      "Score on Train Set: 0.6168031922466012\n",
      "Best Parameters: {}\n",
      "Score on Test Set: 0.6131587681450557\n",
      "                    predicted WNV absent  predicted WNV present\n",
      "Actual WNV absent                   2410                     79\n",
      "Actual WNV present                   116                     22 \n",
      "\n",
      "\n",
      "Fitting 3 folds for each of 1 candidates, totalling 3 fits\n"
     ]
    },
    {
     "name": "stderr",
     "output_type": "stream",
     "text": [
      "[Parallel(n_jobs=1)]: Using backend SequentialBackend with 1 concurrent workers.\n",
      "[Parallel(n_jobs=1)]: Done   3 out of   3 | elapsed:    0.0s finished\n"
     ]
    },
    {
     "name": "stdout",
     "output_type": "stream",
     "text": [
      "Decision Tree Rolling 18 days \n",
      "\n",
      "Score on Train Set: 0.6144195984125821\n",
      "Best Parameters: {}\n",
      "Score on Test Set: 0.6084743887598186\n",
      "                    predicted WNV absent  predicted WNV present\n",
      "Actual WNV absent                   2408                     81\n",
      "Actual WNV present                   118                     20 \n",
      "\n",
      "\n"
     ]
    }
   ],
   "source": [
    "model_making(df_dict, None, 'dt', model_no_tuning, param_no_tuning)\n"
   ]
  },
  {
   "cell_type": "code",
   "execution_count": 14,
   "metadata": {
    "scrolled": true
   },
   "outputs": [
    {
     "name": "stdout",
     "output_type": "stream",
     "text": [
      "Fitting 3 folds for each of 1 candidates, totalling 3 fits\n"
     ]
    },
    {
     "name": "stderr",
     "output_type": "stream",
     "text": [
      "[Parallel(n_jobs=1)]: Using backend SequentialBackend with 1 concurrent workers.\n",
      "[Parallel(n_jobs=1)]: Done   3 out of   3 | elapsed:    0.1s finished\n"
     ]
    },
    {
     "name": "stdout",
     "output_type": "stream",
     "text": [
      "Extra Trees Rolling 10 days \n",
      "\n",
      "Score on Train Set: 0.7004673520847958\n",
      "Best Parameters: {}\n",
      "Score on Test Set: 0.6608439452431277\n",
      "                    predicted WNV absent  predicted WNV present\n",
      "Actual WNV absent                   2452                     37\n",
      "Actual WNV present                   127                     11 \n",
      "\n",
      "\n",
      "Fitting 3 folds for each of 1 candidates, totalling 3 fits\n"
     ]
    },
    {
     "name": "stderr",
     "output_type": "stream",
     "text": [
      "[Parallel(n_jobs=1)]: Using backend SequentialBackend with 1 concurrent workers.\n",
      "[Parallel(n_jobs=1)]: Done   3 out of   3 | elapsed:    0.1s finished\n"
     ]
    },
    {
     "name": "stdout",
     "output_type": "stream",
     "text": [
      "Extra Trees Rolling 14 days \n",
      "\n",
      "Score on Train Set: 0.6940014722920368\n",
      "Best Parameters: {}\n",
      "Score on Test Set: 0.6862601242568751\n",
      "                    predicted WNV absent  predicted WNV present\n",
      "Actual WNV absent                   2451                     38\n",
      "Actual WNV present                   127                     11 \n",
      "\n",
      "\n",
      "Fitting 3 folds for each of 1 candidates, totalling 3 fits\n"
     ]
    },
    {
     "name": "stderr",
     "output_type": "stream",
     "text": [
      "[Parallel(n_jobs=1)]: Using backend SequentialBackend with 1 concurrent workers.\n",
      "[Parallel(n_jobs=1)]: Done   3 out of   3 | elapsed:    0.1s finished\n"
     ]
    },
    {
     "name": "stdout",
     "output_type": "stream",
     "text": [
      "Extra Trees Rolling 18 days \n",
      "\n",
      "Score on Train Set: 0.6900682748007114\n",
      "Best Parameters: {}\n",
      "Score on Test Set: 0.6784402093850624\n",
      "                    predicted WNV absent  predicted WNV present\n",
      "Actual WNV absent                   2455                     34\n",
      "Actual WNV present                   124                     14 \n",
      "\n",
      "\n"
     ]
    }
   ],
   "source": [
    "model_making(df_dict, None, 'et', model_no_tuning, param_no_tuning)\n"
   ]
  },
  {
   "cell_type": "code",
   "execution_count": 15,
   "metadata": {
    "scrolled": true
   },
   "outputs": [
    {
     "name": "stdout",
     "output_type": "stream",
     "text": [
      "Fitting 3 folds for each of 1 candidates, totalling 3 fits\n"
     ]
    },
    {
     "name": "stderr",
     "output_type": "stream",
     "text": [
      "[Parallel(n_jobs=1)]: Using backend SequentialBackend with 1 concurrent workers.\n",
      "[Parallel(n_jobs=1)]: Done   3 out of   3 | elapsed:    0.1s finished\n"
     ]
    },
    {
     "name": "stdout",
     "output_type": "stream",
     "text": [
      "Random Forest Rolling 10 days \n",
      "\n",
      "Score on Train Set: 0.7166459317572165\n",
      "Best Parameters: {}\n",
      "Score on Test Set: 0.7138074193116379\n",
      "                    predicted WNV absent  predicted WNV present\n",
      "Actual WNV absent                   2455                     34\n",
      "Actual WNV present                   124                     14 \n",
      "\n",
      "\n",
      "Fitting 3 folds for each of 1 candidates, totalling 3 fits\n"
     ]
    },
    {
     "name": "stderr",
     "output_type": "stream",
     "text": [
      "[Parallel(n_jobs=1)]: Using backend SequentialBackend with 1 concurrent workers.\n",
      "[Parallel(n_jobs=1)]: Done   3 out of   3 | elapsed:    0.1s finished\n"
     ]
    },
    {
     "name": "stdout",
     "output_type": "stream",
     "text": [
      "Random Forest Rolling 14 days \n",
      "\n",
      "Score on Train Set: 0.712737829950049\n",
      "Best Parameters: {}\n",
      "Score on Test Set: 0.7173272544121672\n",
      "                    predicted WNV absent  predicted WNV present\n",
      "Actual WNV absent                   2451                     38\n",
      "Actual WNV present                   124                     14 \n",
      "\n",
      "\n",
      "Fitting 3 folds for each of 1 candidates, totalling 3 fits\n"
     ]
    },
    {
     "name": "stderr",
     "output_type": "stream",
     "text": [
      "[Parallel(n_jobs=1)]: Using backend SequentialBackend with 1 concurrent workers.\n",
      "[Parallel(n_jobs=1)]: Done   3 out of   3 | elapsed:    0.1s finished\n"
     ]
    },
    {
     "name": "stdout",
     "output_type": "stream",
     "text": [
      "Random Forest Rolling 18 days \n",
      "\n",
      "Score on Train Set: 0.7303666981518532\n",
      "Best Parameters: {}\n",
      "Score on Test Set: 0.7029218416103318\n",
      "                    predicted WNV absent  predicted WNV present\n",
      "Actual WNV absent                   2447                     42\n",
      "Actual WNV present                   123                     15 \n",
      "\n",
      "\n"
     ]
    }
   ],
   "source": [
    "model_making(df_dict, None, 'rf', model_no_tuning, param_no_tuning)\n"
   ]
  },
  {
   "cell_type": "code",
   "execution_count": 16,
   "metadata": {
    "scrolled": true
   },
   "outputs": [
    {
     "name": "stdout",
     "output_type": "stream",
     "text": [
      "Fitting 3 folds for each of 1 candidates, totalling 3 fits\n"
     ]
    },
    {
     "name": "stderr",
     "output_type": "stream",
     "text": [
      "[Parallel(n_jobs=1)]: Using backend SequentialBackend with 1 concurrent workers.\n",
      "[Parallel(n_jobs=1)]: Done   3 out of   3 | elapsed:    5.7s finished\n"
     ]
    },
    {
     "name": "stdout",
     "output_type": "stream",
     "text": [
      "XGBoost Rolling 10 days \n",
      "\n",
      "Score on Train Set: 0.8365894074163807\n",
      "Best Parameters: {}\n",
      "Score on Test Set: 0.8345168014626676\n",
      "                    predicted WNV absent  predicted WNV present\n",
      "Actual WNV absent                   1837                    652\n",
      "Actual WNV present                    33                    105 \n",
      "\n",
      "\n",
      "Fitting 3 folds for each of 1 candidates, totalling 3 fits\n"
     ]
    },
    {
     "name": "stderr",
     "output_type": "stream",
     "text": [
      "[Parallel(n_jobs=1)]: Using backend SequentialBackend with 1 concurrent workers.\n",
      "[Parallel(n_jobs=1)]: Done   3 out of   3 | elapsed:    5.5s finished\n"
     ]
    },
    {
     "name": "stdout",
     "output_type": "stream",
     "text": [
      "XGBoost Rolling 14 days \n",
      "\n",
      "Score on Train Set: 0.8355804078017162\n",
      "Best Parameters: {}\n",
      "Score on Test Set: 0.8331440948870683\n",
      "                    predicted WNV absent  predicted WNV present\n",
      "Actual WNV absent                   1858                    631\n",
      "Actual WNV present                    35                    103 \n",
      "\n",
      "\n",
      "Fitting 3 folds for each of 1 candidates, totalling 3 fits\n"
     ]
    },
    {
     "name": "stderr",
     "output_type": "stream",
     "text": [
      "[Parallel(n_jobs=1)]: Using backend SequentialBackend with 1 concurrent workers.\n",
      "[Parallel(n_jobs=1)]: Done   3 out of   3 | elapsed:    5.5s finished\n"
     ]
    },
    {
     "name": "stdout",
     "output_type": "stream",
     "text": [
      "XGBoost Rolling 18 days \n",
      "\n",
      "Score on Train Set: 0.8341216501905979\n",
      "Best Parameters: {}\n",
      "Score on Test Set: 0.8340771859951904\n",
      "                    predicted WNV absent  predicted WNV present\n",
      "Actual WNV absent                   1827                    662\n",
      "Actual WNV present                    33                    105 \n",
      "\n",
      "\n"
     ]
    }
   ],
   "source": [
    "model_making(df_dict, None, 'xgc', model_no_tuning, param_no_tuning)\n"
   ]
  },
  {
   "cell_type": "code",
   "execution_count": 17,
   "metadata": {},
   "outputs": [],
   "source": [
    "predict = model_no_tuning['xgc_1']['test_pred_proba']\n",
    "\n",
    "output = pd.DataFrame(zip(test['Id'], predict), columns = ['Id', 'WnvPresent'])\n",
    "\n",
    "output.to_csv('./datasets/YOLO_20191107_2123_xgc_00_10_sum_precip-sunlight_w-clusters_no_tuning.csv', index = False)"
   ]
  },
  {
   "cell_type": "markdown",
   "metadata": {},
   "source": [
    "## RUNNING MODEL AND PICKLING IT"
   ]
  },
  {
   "cell_type": "code",
   "execution_count": 38,
   "metadata": {},
   "outputs": [],
   "source": [
    "#Initialising empty dictionary to store model data\n",
    "\n",
    "model_dict = {}\n",
    "\n",
    "#model_dict_reg = {}"
   ]
  },
  {
   "cell_type": "code",
   "execution_count": 64,
   "metadata": {},
   "outputs": [
    {
     "name": "stdout",
     "output_type": "stream",
     "text": [
      "Fitting 3 folds for each of 200 candidates, totalling 600 fits\n"
     ]
    },
    {
     "name": "stderr",
     "output_type": "stream",
     "text": [
      "[Parallel(n_jobs=8)]: Using backend LokyBackend with 8 concurrent workers.\n",
      "[Parallel(n_jobs=8)]: Done  88 tasks      | elapsed:    1.2s\n",
      "[Parallel(n_jobs=8)]: Done 541 tasks      | elapsed:   28.3s\n",
      "[Parallel(n_jobs=8)]: Done 600 out of 600 | elapsed:  1.0min finished\n"
     ]
    },
    {
     "name": "stdout",
     "output_type": "stream",
     "text": [
      "Logistic Regression Rolling 10 days Standard Scaler \n",
      "\n",
      "Score on Train Set: 0.7898941417726049\n",
      "Best Parameters: {'lr__C': 0.8902150854450392, 'lr__class_weight': 'balanced', 'lr__penalty': 'l1', 'lr__solver': 'liblinear'}\n",
      "Score on Test Set: 0.7876686405692293\n",
      "                    predicted WNV absent  predicted WNV present\n",
      "Actual WNV absent                   1739                    750\n",
      "Actual WNV present                    35                    103 \n",
      "\n",
      "\n",
      "Fitting 3 folds for each of 200 candidates, totalling 600 fits\n"
     ]
    },
    {
     "name": "stderr",
     "output_type": "stream",
     "text": [
      "[Parallel(n_jobs=8)]: Using backend LokyBackend with 8 concurrent workers.\n",
      "[Parallel(n_jobs=8)]: Done  88 tasks      | elapsed:    1.2s\n",
      "[Parallel(n_jobs=8)]: Done 536 tasks      | elapsed:   26.5s\n",
      "[Parallel(n_jobs=8)]: Done 600 out of 600 | elapsed:   58.8s finished\n"
     ]
    },
    {
     "name": "stdout",
     "output_type": "stream",
     "text": [
      "Logistic Regression Rolling 14 days Standard Scaler \n",
      "\n",
      "Score on Train Set: 0.7853260612228314\n",
      "Best Parameters: {'lr__C': 0.6280291441834247, 'lr__class_weight': 'balanced', 'lr__penalty': 'l1', 'lr__solver': 'liblinear'}\n",
      "Score on Test Set: 0.787619147437129\n",
      "                    predicted WNV absent  predicted WNV present\n",
      "Actual WNV absent                   1714                    775\n",
      "Actual WNV present                    36                    102 \n",
      "\n",
      "\n",
      "Fitting 3 folds for each of 200 candidates, totalling 600 fits\n"
     ]
    },
    {
     "name": "stderr",
     "output_type": "stream",
     "text": [
      "[Parallel(n_jobs=8)]: Using backend LokyBackend with 8 concurrent workers.\n",
      "[Parallel(n_jobs=8)]: Done  88 tasks      | elapsed:    1.2s\n",
      "[Parallel(n_jobs=8)]: Done 535 tasks      | elapsed:   28.3s\n",
      "[Parallel(n_jobs=8)]: Done 600 out of 600 | elapsed:   55.9s finished\n"
     ]
    },
    {
     "name": "stdout",
     "output_type": "stream",
     "text": [
      "Logistic Regression Rolling 18 days Standard Scaler \n",
      "\n",
      "Score on Train Set: 0.7896449641476803\n",
      "Best Parameters: {'lr__C': 0.7924828983539169, 'lr__class_weight': 'balanced', 'lr__penalty': 'l1', 'lr__solver': 'liblinear'}\n",
      "Score on Test Set: 0.7927023832398786\n",
      "                    predicted WNV absent  predicted WNV present\n",
      "Actual WNV absent                   1751                    738\n",
      "Actual WNV present                    38                    100 \n",
      "\n",
      "\n"
     ]
    }
   ],
   "source": [
    "\n",
    "\n",
    "model_making(df_dict, 'ss', 'lr', model_dict, param_dict)"
   ]
  },
  {
   "cell_type": "code",
   "execution_count": 63,
   "metadata": {},
   "outputs": [
    {
     "name": "stdout",
     "output_type": "stream",
     "text": [
      "Fitting 3 folds for each of 120 candidates, totalling 360 fits\n"
     ]
    },
    {
     "name": "stderr",
     "output_type": "stream",
     "text": [
      "[Parallel(n_jobs=8)]: Using backend LokyBackend with 8 concurrent workers.\n",
      "[Parallel(n_jobs=8)]: Done 196 tasks      | elapsed:    1.1s\n",
      "[Parallel(n_jobs=8)]: Done 360 out of 360 | elapsed:    1.9s finished\n"
     ]
    },
    {
     "name": "stdout",
     "output_type": "stream",
     "text": [
      "Decision Tree Rolling 10 days \n",
      "\n",
      "Score on Train Set: 0.7923319471846698\n",
      "Best Parameters: {'dt__class_weight': 'balanced', 'dt__max_depth': 5, 'dt__min_samples_leaf': 2, 'dt__min_samples_split': 5}\n",
      "Score on Test Set: 0.7953488101268771\n",
      "                    predicted WNV absent  predicted WNV present\n",
      "Actual WNV absent                   1641                    848\n",
      "Actual WNV present                    21                    117 \n",
      "\n",
      "\n",
      "Fitting 3 folds for each of 120 candidates, totalling 360 fits\n"
     ]
    },
    {
     "name": "stderr",
     "output_type": "stream",
     "text": [
      "[Parallel(n_jobs=8)]: Using backend LokyBackend with 8 concurrent workers.\n",
      "[Parallel(n_jobs=8)]: Done 196 tasks      | elapsed:    1.0s\n",
      "[Parallel(n_jobs=8)]: Done 360 out of 360 | elapsed:    1.9s finished\n"
     ]
    },
    {
     "name": "stdout",
     "output_type": "stream",
     "text": [
      "Decision Tree Rolling 14 days \n",
      "\n",
      "Score on Train Set: 0.7727286475710452\n",
      "Best Parameters: {'dt__class_weight': 'balanced', 'dt__max_depth': 5, 'dt__min_samples_leaf': 2, 'dt__min_samples_split': 5}\n",
      "Score on Test Set: 0.7935539562480712\n",
      "                    predicted WNV absent  predicted WNV present\n",
      "Actual WNV absent                   1663                    826\n",
      "Actual WNV present                    24                    114 \n",
      "\n",
      "\n",
      "Fitting 3 folds for each of 120 candidates, totalling 360 fits\n"
     ]
    },
    {
     "name": "stderr",
     "output_type": "stream",
     "text": [
      "[Parallel(n_jobs=8)]: Using backend LokyBackend with 8 concurrent workers.\n",
      "[Parallel(n_jobs=8)]: Done 196 tasks      | elapsed:    0.9s\n",
      "[Parallel(n_jobs=8)]: Done 360 out of 360 | elapsed:    1.8s finished\n"
     ]
    },
    {
     "name": "stdout",
     "output_type": "stream",
     "text": [
      "Decision Tree Rolling 18 days \n",
      "\n",
      "Score on Train Set: 0.772631947711808\n",
      "Best Parameters: {'dt__class_weight': 'balanced', 'dt__max_depth': 5, 'dt__min_samples_leaf': 6, 'dt__min_samples_split': 10}\n",
      "Score on Test Set: 0.7954012146196889\n",
      "                    predicted WNV absent  predicted WNV present\n",
      "Actual WNV absent                   1584                    905\n",
      "Actual WNV present                    24                    114 \n",
      "\n",
      "\n"
     ]
    }
   ],
   "source": [
    "model_making(df_dict, None, 'dt', model_dict, param_dict)"
   ]
  },
  {
   "cell_type": "code",
   "execution_count": 60,
   "metadata": {},
   "outputs": [
    {
     "name": "stdout",
     "output_type": "stream",
     "text": [
      "Fitting 3 folds for each of 216 candidates, totalling 648 fits\n"
     ]
    },
    {
     "name": "stderr",
     "output_type": "stream",
     "text": [
      "[Parallel(n_jobs=8)]: Using backend LokyBackend with 8 concurrent workers.\n",
      "[Parallel(n_jobs=8)]: Done 160 tasks      | elapsed:    4.6s\n",
      "[Parallel(n_jobs=8)]: Done 422 tasks      | elapsed:   14.8s\n",
      "[Parallel(n_jobs=8)]: Done 648 out of 648 | elapsed:   26.1s finished\n"
     ]
    },
    {
     "name": "stdout",
     "output_type": "stream",
     "text": [
      "Extra Trees Rolling 10 days \n",
      "\n",
      "Score on Train Set: 0.8362646889802677\n",
      "Best Parameters: {'et__class_weight': 'balanced', 'et__max_depth': 20, 'et__min_samples_leaf': 5, 'et__n_estimators': 150}\n",
      "Score on Test Set: 0.8305151361643404\n",
      "                    predicted WNV absent  predicted WNV present\n",
      "Actual WNV absent                   1959                    530\n",
      "Actual WNV present                    45                     93 \n",
      "\n",
      "\n",
      "Fitting 3 folds for each of 216 candidates, totalling 648 fits\n"
     ]
    },
    {
     "name": "stderr",
     "output_type": "stream",
     "text": [
      "[Parallel(n_jobs=8)]: Using backend LokyBackend with 8 concurrent workers.\n",
      "[Parallel(n_jobs=8)]: Done 124 tasks      | elapsed:    3.6s\n",
      "[Parallel(n_jobs=8)]: Done 370 tasks      | elapsed:   14.6s\n",
      "[Parallel(n_jobs=8)]: Done 620 tasks      | elapsed:   24.8s\n",
      "[Parallel(n_jobs=8)]: Done 648 out of 648 | elapsed:   27.1s finished\n"
     ]
    },
    {
     "name": "stdout",
     "output_type": "stream",
     "text": [
      "Extra Trees Rolling 14 days \n",
      "\n",
      "Score on Train Set: 0.8392848082869544\n",
      "Best Parameters: {'et__class_weight': 'balanced', 'et__max_depth': 20, 'et__min_samples_leaf': 5, 'et__n_estimators': 100}\n",
      "Score on Test Set: 0.8329868814086328\n",
      "                    predicted WNV absent  predicted WNV present\n",
      "Actual WNV absent                   1988                    501\n",
      "Actual WNV present                    50                     88 \n",
      "\n",
      "\n",
      "Fitting 3 folds for each of 216 candidates, totalling 648 fits\n"
     ]
    },
    {
     "name": "stderr",
     "output_type": "stream",
     "text": [
      "[Parallel(n_jobs=8)]: Using backend LokyBackend with 8 concurrent workers.\n",
      "[Parallel(n_jobs=8)]: Done 160 tasks      | elapsed:    5.3s\n",
      "[Parallel(n_jobs=8)]: Done 404 tasks      | elapsed:   15.4s\n",
      "[Parallel(n_jobs=8)]: Done 648 out of 648 | elapsed:   27.2s finished\n"
     ]
    },
    {
     "name": "stdout",
     "output_type": "stream",
     "text": [
      "Extra Trees Rolling 18 days \n",
      "\n",
      "Score on Train Set: 0.837679439584434\n",
      "Best Parameters: {'et__class_weight': 'balanced_subsample', 'et__max_depth': 20, 'et__min_samples_leaf': 5, 'et__n_estimators': 150}\n",
      "Score on Test Set: 0.83314700624778\n",
      "                    predicted WNV absent  predicted WNV present\n",
      "Actual WNV absent                   1982                    507\n",
      "Actual WNV present                    49                     89 \n",
      "\n",
      "\n"
     ]
    }
   ],
   "source": [
    "model_making(df_dict, None, 'et', model_dict, param_dict)"
   ]
  },
  {
   "cell_type": "code",
   "execution_count": 59,
   "metadata": {},
   "outputs": [
    {
     "name": "stdout",
     "output_type": "stream",
     "text": [
      "Fitting 3 folds for each of 180 candidates, totalling 540 fits\n"
     ]
    },
    {
     "name": "stderr",
     "output_type": "stream",
     "text": [
      "[Parallel(n_jobs=8)]: Using backend LokyBackend with 8 concurrent workers.\n",
      "[Parallel(n_jobs=8)]: Done 124 tasks      | elapsed:    5.9s\n",
      "[Parallel(n_jobs=8)]: Done 324 tasks      | elapsed:   15.8s\n",
      "[Parallel(n_jobs=8)]: Done 540 out of 540 | elapsed:   31.1s finished\n"
     ]
    },
    {
     "name": "stdout",
     "output_type": "stream",
     "text": [
      "Random Forest Rolling 10 days \n",
      "\n",
      "Score on Train Set: 0.8434778914612783\n",
      "Best Parameters: {'rf__class_weight': 'balanced_subsample', 'rf__max_depth': 15, 'rf__min_samples_leaf': 5, 'rf__n_estimators': 20}\n",
      "Score on Test Set: 0.8224623124355861\n",
      "                    predicted WNV absent  predicted WNV present\n",
      "Actual WNV absent                   2065                    424\n",
      "Actual WNV present                    55                     83 \n",
      "\n",
      "\n",
      "Fitting 3 folds for each of 180 candidates, totalling 540 fits\n"
     ]
    },
    {
     "name": "stderr",
     "output_type": "stream",
     "text": [
      "[Parallel(n_jobs=8)]: Using backend LokyBackend with 8 concurrent workers.\n",
      "[Parallel(n_jobs=8)]: Done 124 tasks      | elapsed:    6.0s\n",
      "[Parallel(n_jobs=8)]: Done 326 tasks      | elapsed:   16.2s\n",
      "[Parallel(n_jobs=8)]: Done 540 out of 540 | elapsed:   32.0s finished\n"
     ]
    },
    {
     "name": "stdout",
     "output_type": "stream",
     "text": [
      "Random Forest Rolling 14 days \n",
      "\n",
      "Score on Train Set: 0.8421226568707366\n",
      "Best Parameters: {'rf__class_weight': 'balanced_subsample', 'rf__max_depth': 10, 'rf__min_samples_leaf': 2, 'rf__n_estimators': 100}\n",
      "Score on Test Set: 0.8313346842047036\n",
      "                    predicted WNV absent  predicted WNV present\n",
      "Actual WNV absent                   1978                    511\n",
      "Actual WNV present                    45                     93 \n",
      "\n",
      "\n",
      "Fitting 3 folds for each of 180 candidates, totalling 540 fits\n"
     ]
    },
    {
     "name": "stderr",
     "output_type": "stream",
     "text": [
      "[Parallel(n_jobs=8)]: Using backend LokyBackend with 8 concurrent workers.\n",
      "[Parallel(n_jobs=8)]: Done 152 tasks      | elapsed:    8.3s\n",
      "[Parallel(n_jobs=8)]: Done 380 tasks      | elapsed:   19.8s\n",
      "[Parallel(n_jobs=8)]: Done 540 out of 540 | elapsed:   31.7s finished\n"
     ]
    },
    {
     "name": "stdout",
     "output_type": "stream",
     "text": [
      "Random Forest Rolling 18 days \n",
      "\n",
      "Score on Train Set: 0.8415179658268298\n",
      "Best Parameters: {'rf__class_weight': 'balanced', 'rf__max_depth': 10, 'rf__min_samples_leaf': 2, 'rf__n_estimators': 150}\n",
      "Score on Test Set: 0.8294452111027653\n",
      "                    predicted WNV absent  predicted WNV present\n",
      "Actual WNV absent                   1976                    513\n",
      "Actual WNV present                    45                     93 \n",
      "\n",
      "\n"
     ]
    }
   ],
   "source": [
    "model_making(df_dict, None, 'rf', model_dict, param_dict)"
   ]
  },
  {
   "cell_type": "code",
   "execution_count": 65,
   "metadata": {},
   "outputs": [
    {
     "data": {
      "text/plain": [
       "dict_keys(['lr_1', 'lr_2', 'lr_3', 'dt_1', 'dt_2', 'dt_3', 'et_1', 'et_2', 'et_3', 'rf_1', 'rf_2', 'rf_3'])"
      ]
     },
     "execution_count": 65,
     "metadata": {},
     "output_type": "execute_result"
    }
   ],
   "source": [
    "model_dict.keys()"
   ]
  },
  {
   "cell_type": "code",
   "execution_count": 66,
   "metadata": {},
   "outputs": [],
   "source": [
    "model_df = pd.DataFrame(model_dict)"
   ]
  },
  {
   "cell_type": "code",
   "execution_count": 67,
   "metadata": {},
   "outputs": [],
   "source": [
    "model_df.to_pickle('./model_dict_20191108_0713hrs.zip')"
   ]
  },
  {
   "cell_type": "code",
   "execution_count": null,
   "metadata": {},
   "outputs": [],
   "source": []
  },
  {
   "cell_type": "code",
   "execution_count": null,
   "metadata": {},
   "outputs": [],
   "source": []
  },
  {
   "cell_type": "code",
   "execution_count": null,
   "metadata": {},
   "outputs": [],
   "source": []
  },
  {
   "cell_type": "code",
   "execution_count": null,
   "metadata": {},
   "outputs": [],
   "source": [
    "# Functions to plot prediction probability and ROC AUC curve\n",
    "\n",
    "# Defining function to count true positive rate\n",
    "\n",
    "def TPR(df, true_col, pred_prob_col, threshold):\n",
    "    true_positive = df[(df[true_col] == 1) & (df[pred_prob_col] >= threshold)].shape[0]\n",
    "    false_negative = df[(df[true_col] == 1) & (df[pred_prob_col] < threshold)].shape[0]\n",
    "    return true_positive / (true_positive + false_negative)\n",
    "\n",
    "# Defining function to count false positive rate\n",
    "def FPR(df, true_col, pred_prob_col, threshold):\n",
    "    true_negative = df[(df[true_col] == 0) & (df[pred_prob_col] <= threshold)].shape[0]\n",
    "    false_positive = df[(df[true_col] == 0) & (df[pred_prob_col] > threshold)].shape[0]\n",
    "    return 1 - (true_negative / (true_negative + false_positive))\n",
    "\n",
    "# Defining function to plot prediction probability and ROC AUC curve for selected models\n",
    "def subplot_prob_dist(model_dict, list_of_models):\n",
    "    nrows = int(np.ceil(len(list_of_models)))\n",
    "    fig, ax = plt.subplots(nrows = nrows, ncols = 2, figsize = (15, nrows * 5))\n",
    "    plt.subplots_adjust(wspace = 0.4, hspace = 0.4)\n",
    "    ax = ax.flatten()\n",
    "\n",
    "    thresholds = np.linspace(0, 1, 200)\n",
    "\n",
    "    for i, model_name in enumerate(list_of_models):\n",
    "        pred_df = model_dict[model_name]['pred_df']\n",
    "        model_desc = model_dict[model_name]['name']\n",
    "        \n",
    "        roc_auc = roc_auc_score(pred_df['true_values'], pred_df['pred_probs'])\n",
    "        \n",
    "        try:\n",
    "            ax[(i * 2)].hist(pred_df[pred_df['true_values'] == 0]['pred_probs'], bins = 25, color = 'b', \\\n",
    "                             alpha = 0.6, label = 'Outcome = r/personalfinance')\n",
    "            ax[(i * 2)].hist(pred_df[pred_df['true_values'] == 1]['pred_probs'], bins = 25, color = 'y', \\\n",
    "                                 alpha = 0.6, label = 'Outcome = r/investing')\n",
    "            ax[(i * 2)].set_title(f'{model_desc} \\n Distribution of P(Outcome = r/investing)')\n",
    "            ax[(i * 2)].set_ylabel('Frequency')\n",
    "            ax[(i * 2)].set_xlabel('Predicted Probability that Outcome = r/investing')\n",
    "            ax[(i * 2)].legend(loc = 'upper center')\n",
    "        except:\n",
    "            pass\n",
    "        \n",
    "        \n",
    "        try:\n",
    "            tpr_values = [TPR(pred_df, 'true_values', 'pred_probs', prob) for prob in thresholds]\n",
    "            fpr_values = [FPR(pred_df, 'true_values', 'pred_probs', prob) for prob in thresholds]\n",
    " \n",
    "            ax[(i * 2 + 1)].plot(fpr_values, tpr_values, label = 'ROC Curve', color = 'c')\n",
    "            ax[(i * 2 + 1)].plot((0, 0), (0, tpr_values[len(tpr_values) - 1]), color = 'c')\n",
    "            ax[(i * 2 + 1)].plot((fpr_values[0], 1), (1 , 1), color = 'c')\n",
    "            ax[(i * 2 + 1)].plot(thresholds, thresholds, label = 'baseline', linestyle = '--', color = 'y')\n",
    "            ax[(i * 2 + 1)].set_title(f'{model_desc}  \\n ROC AUC = {roc_auc:2f}')\n",
    "            ax[(i * 2 + 1)].set_ylabel('Sensitivity')\n",
    "            ax[(i * 2 + 1)].set_xlabel('1 - Specificity')\n",
    "            ax[(i * 2 + 1)].legend(loc = 'lower right')\n",
    "            \n",
    "            \n",
    "        except:\n",
    "            pass\n",
    "\n",
    "\n"
   ]
  },
  {
   "cell_type": "markdown",
   "metadata": {},
   "source": [
    "## Cost-Benefit Analysis"
   ]
  },
  {
   "cell_type": "markdown",
   "metadata": {},
   "source": [
    "### Cost\n",
    "The Chicago Department of Public Health (CDPH) conducts mosquito spraying as part of their measure to reduce the occurrence of WNV. The spraying is conducted from dusk to around midnight from ultra low volumn (ULV) sprayer trucks, using the chemical Zenivex™ E4 ([City of Chicago, 2019](https://www.chicago.gov/city/en/depts/cdph/provdrs/healthy_communities/news/2019/august/city-to-spray-insecticide-thursday-to-kill-mosquitoes.html)). This is a 4% solution of etofenprox, sprayed at 4.5 - 9 ounces per minute, at a vehicle speed of 10 - 15 mph ([Central Massachussettes Mosquito Control Project](https://www.cmmcp.org/pesticide-information/pages/zenivex-e4-etofenprox)). Assuming each truck has an area of effect of about 3 m to each side of the truck, the overall spray area is approximately **0.6 km<sup>2</sup>** per truck.\n",
    "\n",
    "The cost of Zenivex E4 is about \\$80 USD per gallon ([North Dakota Department of Health, 2013](http://www.gfmosquito.com/wp-content/uploads/2013/06/2013-North-Dakota-Bid-Tabulation.pdf)). Given the current rate of spraying and assuming a total spray duration of 5 hours, the cost of pesticides for <i>each sprayer truck</i> is <b>\\\\$843.76 - \\$1687.50 USD</b>. \n",
    "\n",
    "Given that the total area of Chicago is 606.1 km<sup>2</sup>, it would take about 1000 trucks at the same time to cover the entire area. \n",
    "\n",
    "### Benefit\n",
    "Benefits from mosquito spraying would include increased quality of life from fewer people falling sick and dying, increased workplace productivity from fewer people falling ill and going on medical leave, as well as savings in hospital expenses from treating WNV patients. Of these, only the latter two are measurable.\n",
    "\n",
    "About 1 in 5 people infected with WNV develop West Nile fever with other symptoms such as headache, body aches, joint pains, vomiting, etc. Recovery from West Nile fever takes from a few days to several weeks, and prolonged fatigue is common ([Peterson, 2019](https://www.uptodate.com/contents/west-nile-virus-infection-beyond-the-basics)). \n",
    "\n",
    "About 1 in 150 people infected develop severe neuroinvasive diseases such as encephalitis or meningitis, in which the virus travels through the blood and infects the brain and spinal cord. Recovery is prolonged and less than 40% of patients with the severe diseases recover after one year ([Peterson, 2019](https://www.uptodate.com/contents/west-nile-virus-infection-beyond-the-basics)).\n",
    "\n",
    "Given that the median household income in Chicago was \\\\$55,295 (as of 2017; [Data USA](https://datausa.io/profile/geo/chicago-il/)), one can estimate the amount of losses the city will face from an incapacitated workforce. In 2017, there were 90 WNV cases, including 8 deaths ([CBS Chicago, 2019](https://chicago.cbslocal.com/2018/08/29/west-nile-virus-death-reported-in-illinois/)). This means that approximately 18 people developed West Nile fever. Assuming all were working adults and each took two weeks off work to recover, this would have resulted in a total income loss of \\\\$19,353. On average, each WNV patient spends approximately \\\\$25,000 in the hospital. Therefore the total monetary loss caused by WNV in 2017 is approximately \\\\$488,176.\n",
    "\n",
    "### Effectiveness of spraying efforts thus far\n",
    "Based on the exploratory data analysis conducted earlier, there was a lack of evidence to support the claim that mosquito spraying had any effect on reducing the number of mosquitos. It was also revealed during earlier EDA that spraying was only done in 2011 and 2013, and mostly in September. As this is near the end of summer, breeding conditions were already becoming less favourable for mosquitos, therefore it would be difficult to discern the effects of spraying from the natural decline in mosquito populations. Further examinations of spraying efforts in 2013 August also did not reveal any noticable decrease in WNV occurrences. \n",
    "\n",
    "### Conclusions\n",
    "From the graph below, it can be seen that the money saved from reducing WNV cases would at most fund about 300 - 500 sprays. However, as the current datasets do not substantially point to a significant impact from spraying, more evidence (from a better designed spraying regime) are needed for a more concrete recommendation. For example, spraying efforts could be concentrated at the beginning of August so that there would be enough time to observe if mosquito numbers decline, in the relative absence of other confounding factors (such as temperature). "
   ]
  },
  {
   "cell_type": "code",
   "execution_count": 19,
   "metadata": {
    "ExecuteTime": {
     "end_time": "2019-11-07T13:19:04.368349Z",
     "start_time": "2019-11-07T13:19:03.814250Z"
    }
   },
   "outputs": [
    {
     "data": {
      "image/png": "[encoded data removed]",
      "text/plain": [
       "<Figure size 576x360 with 1 Axes>"
      ]
     },
     "metadata": {
      "needs_background": "light"
     },
     "output_type": "display_data"
    }
   ],
   "source": [
    "# max/optimal level of pesticide coverage\n",
    "# spraying frequency of twice a month (to cover the mosquito life cycle)\n",
    "# 1000 trucks at a time (to cover the whole Chicago)\n",
    "max_frequency = 25 * 1000\n",
    "\n",
    "plt.figure(figsize=(8,5))\n",
    "plt.plot(np.arange(1, max_frequency),\n",
    "         np.arange(1, max_frequency) * 1687.5/1000, label = 'upper cost estimate limit')\n",
    "plt.plot(np.arange(1, max_frequency),\n",
    "         np.arange(1, max_frequency) * 843.75/1000, label = 'lower cost estimate limit')\n",
    "plt.axhline(488_176/1000, color='r', linestyle=':', label = 'total loss from WNV (2017)')\n",
    "plt.title('cost vs spray frequency', fontsize=16)\n",
    "plt.xlabel('spray frequency', fontsize=14)\n",
    "plt.ylabel('cost (in 1000s)', fontsize=14)\n",
    "plt.ylim(0,2000)\n",
    "plt.xlim(0,1000)\n",
    "plt.legend()\n",
    "plt.tight_layout()\n",
    "plt.savefig('cost_benefit')"
   ]
  },
  {
   "cell_type": "markdown",
   "metadata": {},
   "source": [
    "## Conclusion and Recommendations"
   ]
  },
  {
   "cell_type": "markdown",
   "metadata": {},
   "source": [
    "Using XGBoost (our best performing model), we achieved an ROC_AUC of **0.839** and the following confusion matrix:\n",
    "\n",
    "||predicted WNV absent|predicted WNV present|\n",
    "|---|---|---|\n",
    "|actual WNV absent|2045|444|\n",
    "|actual WNV present|54|84|\n",
    "\n",
    "Using the model, we found that WNV is more prevalent under certain conditions. **Week of year** was the top predictor by far for our model, followed by day of year, 10-days rolling sum of daylight hours, <i>Culex restuans</i>, and 10-days rolling mean of average temperature. This means that WNV is most likely to occur during certain weeks of the year (in August, as shown in the figure above), and therefore spray efforts should be concentrated during this period. Location was not a strong predictor in our model, suggesting that WNV clusters may be transient, occurring where best conditions emerge. \n",
    "\n",
    "After conducting a cost-benefit analysis, we found that the money saved from reducing WNV cases would at most fund about 300 - 500 sprays. However, as the current datasets do not substantially point to a significant impact from spraying, more evidence (from a better designed spraying regime) are needed for a more concrete recommendation. For example, spraying efforts could be concentrated at the beginning of August so that there would be enough time to observe if mosquito numbers decline, in the relative absence of other confounding factors (such as temperature). "
   ]
  }
 ],
 "metadata": {
  "kernelspec": {
   "display_name": "Python 3",
   "language": "python",
   "name": "python3"
  },
  "language_info": {
   "codemirror_mode": {
    "name": "ipython",
    "version": 3
   },
   "file_extension": ".py",
   "mimetype": "text/x-python",
   "name": "python",
   "nbconvert_exporter": "python",
   "pygments_lexer": "ipython3",
   "version": "3.7.4"
  },
  "toc": {
   "base_numbering": 1,
   "nav_menu": {},
   "number_sections": true,
   "sideBar": true,
   "skip_h1_title": true,
   "title_cell": "Table of Contents",
   "title_sidebar": "Contents",
   "toc_cell": true,
   "toc_position": {},
   "toc_section_display": true,
   "toc_window_display": true
  },
  "varInspector": {
   "cols": {
    "lenName": 16,
    "lenType": 16,
    "lenVar": 40
   },
   "kernels_config": {
    "python": {
     "delete_cmd_postfix": "",
     "delete_cmd_prefix": "del ",
     "library": "var_list.py",
     "varRefreshCmd": "print(var_dic_list())"
    },
    "r": {
     "delete_cmd_postfix": ") ",
     "delete_cmd_prefix": "rm(",
     "library": "var_list.r",
     "varRefreshCmd": "cat(var_dic_list()) "
    }
   },
   "types_to_exclude": [
    "module",
    "function",
    "builtin_function_or_method",
    "instance",
    "_Feature"
   ],
   "window_display": false
  }
 },
 "nbformat": 4,
 "nbformat_minor": 2
}
